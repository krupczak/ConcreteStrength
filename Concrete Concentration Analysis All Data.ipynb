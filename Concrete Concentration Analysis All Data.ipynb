{
 "cells": [
  {
   "cell_type": "markdown",
   "id": "630461a6",
   "metadata": {},
   "source": [
    "## Concrete Analysis\n",
    "Hope College<br>\n",
    "Intro to Engineering<br>\n",
    "2020-2023 Labs<br>"
   ]
  },
  {
   "cell_type": "code",
   "execution_count": 1,
   "id": "76098ab8",
   "metadata": {},
   "outputs": [],
   "source": [
    "import pandas as pd\n",
    "import numpy as np\n",
    "import matplotlib.pyplot as plt\n",
    "from scipy import stats\n",
    "import re"
   ]
  },
  {
   "cell_type": "code",
   "execution_count": 2,
   "id": "26bb7ca7",
   "metadata": {},
   "outputs": [
    {
     "data": {
      "text/html": [
       "<div>\n",
       "<style scoped>\n",
       "    .dataframe tbody tr th:only-of-type {\n",
       "        vertical-align: middle;\n",
       "    }\n",
       "\n",
       "    .dataframe tbody tr th {\n",
       "        vertical-align: top;\n",
       "    }\n",
       "\n",
       "    .dataframe thead th {\n",
       "        text-align: right;\n",
       "    }\n",
       "</style>\n",
       "<table border=\"1\" class=\"dataframe\">\n",
       "  <thead>\n",
       "    <tr style=\"text-align: right;\">\n",
       "      <th></th>\n",
       "      <th>Timestamp</th>\n",
       "      <th>Date and approximate time tests were performed</th>\n",
       "      <th>Water to Cement Ratio</th>\n",
       "      <th>Maximum Load for Unreinforced Beam (lbf)</th>\n",
       "      <th>Maximum Load for Reinforced Beam (lbf)</th>\n",
       "    </tr>\n",
       "  </thead>\n",
       "  <tbody>\n",
       "    <tr>\n",
       "      <th>0</th>\n",
       "      <td>2020-08-25 20:05:14.162</td>\n",
       "      <td>2020-08-25 08:30:00</td>\n",
       "      <td>0.55</td>\n",
       "      <td>620.1272 lbf</td>\n",
       "      <td>2,059.9807 lbf</td>\n",
       "    </tr>\n",
       "    <tr>\n",
       "      <th>1</th>\n",
       "      <td>2020-08-25 21:20:12.812</td>\n",
       "      <td>2020-08-25 16:30:00</td>\n",
       "      <td>Tuesdays lab (0.50 ratio)</td>\n",
       "      <td>436.48571lbf</td>\n",
       "      <td>2184.34074lbf</td>\n",
       "    </tr>\n",
       "    <tr>\n",
       "      <th>2</th>\n",
       "      <td>2020-08-26 21:25:19.644</td>\n",
       "      <td>2020-08-25 15:14:00</td>\n",
       "      <td>0.5</td>\n",
       "      <td>458.85 lbf</td>\n",
       "      <td>610.12 lbf</td>\n",
       "    </tr>\n",
       "    <tr>\n",
       "      <th>3</th>\n",
       "      <td>2020-08-27 12:05:53.101</td>\n",
       "      <td>2020-08-25 12:00:00</td>\n",
       "      <td>0.5</td>\n",
       "      <td>443.82</td>\n",
       "      <td>1540.28</td>\n",
       "    </tr>\n",
       "    <tr>\n",
       "      <th>4</th>\n",
       "      <td>2020-08-27 13:02:48.533</td>\n",
       "      <td>2020-08-25 17:30:00</td>\n",
       "      <td>0.5</td>\n",
       "      <td>597.02</td>\n",
       "      <td>1680.72</td>\n",
       "    </tr>\n",
       "  </tbody>\n",
       "</table>\n",
       "</div>"
      ],
      "text/plain": [
       "                Timestamp Date and approximate time tests were performed  \\\n",
       "0 2020-08-25 20:05:14.162                            2020-08-25 08:30:00   \n",
       "1 2020-08-25 21:20:12.812                            2020-08-25 16:30:00   \n",
       "2 2020-08-26 21:25:19.644                            2020-08-25 15:14:00   \n",
       "3 2020-08-27 12:05:53.101                            2020-08-25 12:00:00   \n",
       "4 2020-08-27 13:02:48.533                            2020-08-25 17:30:00   \n",
       "\n",
       "       Water to Cement Ratio Maximum Load for Unreinforced Beam (lbf)  \\\n",
       "0                       0.55                             620.1272 lbf   \n",
       "1  Tuesdays lab (0.50 ratio)                             436.48571lbf   \n",
       "2                        0.5                               458.85 lbf   \n",
       "3                        0.5                                   443.82   \n",
       "4                        0.5                                   597.02   \n",
       "\n",
       "  Maximum Load for Reinforced Beam (lbf)  \n",
       "0                         2,059.9807 lbf  \n",
       "1                          2184.34074lbf  \n",
       "2                             610.12 lbf  \n",
       "3                                1540.28  \n",
       "4                                1680.72  "
      ]
     },
     "execution_count": 2,
     "metadata": {},
     "output_type": "execute_result"
    }
   ],
   "source": [
    "data = pd.read_excel('Concrete Beam Testing Results_Anonymous.xlsx')\n",
    "data.drop(labels=0, axis='index', inplace=True)\n",
    "data.reset_index(inplace=True, drop=True)\n",
    "data.head()"
   ]
  },
  {
   "cell_type": "markdown",
   "id": "432d6d25",
   "metadata": {},
   "source": [
    "#### Data Cleaning"
   ]
  },
  {
   "cell_type": "code",
   "execution_count": 3,
   "id": "db9b7410",
   "metadata": {},
   "outputs": [
    {
     "data": {
      "text/html": [
       "<div>\n",
       "<style scoped>\n",
       "    .dataframe tbody tr th:only-of-type {\n",
       "        vertical-align: middle;\n",
       "    }\n",
       "\n",
       "    .dataframe tbody tr th {\n",
       "        vertical-align: top;\n",
       "    }\n",
       "\n",
       "    .dataframe thead th {\n",
       "        text-align: right;\n",
       "    }\n",
       "</style>\n",
       "<table border=\"1\" class=\"dataframe\">\n",
       "  <thead>\n",
       "    <tr style=\"text-align: right;\">\n",
       "      <th></th>\n",
       "      <th>timestamp</th>\n",
       "      <th>testtime</th>\n",
       "      <th>wc_ratio</th>\n",
       "      <th>unreinforced</th>\n",
       "      <th>reinforced</th>\n",
       "    </tr>\n",
       "  </thead>\n",
       "  <tbody>\n",
       "    <tr>\n",
       "      <th>0</th>\n",
       "      <td>2020-08-25 20:05:14.162</td>\n",
       "      <td>2020-08-25 08:30:00</td>\n",
       "      <td>0.55</td>\n",
       "      <td>620.1272 lbf</td>\n",
       "      <td>2,059.9807 lbf</td>\n",
       "    </tr>\n",
       "    <tr>\n",
       "      <th>1</th>\n",
       "      <td>2020-08-25 21:20:12.812</td>\n",
       "      <td>2020-08-25 16:30:00</td>\n",
       "      <td>Tuesdays lab (0.50 ratio)</td>\n",
       "      <td>436.48571lbf</td>\n",
       "      <td>2184.34074lbf</td>\n",
       "    </tr>\n",
       "    <tr>\n",
       "      <th>2</th>\n",
       "      <td>2020-08-26 21:25:19.644</td>\n",
       "      <td>2020-08-25 15:14:00</td>\n",
       "      <td>0.5</td>\n",
       "      <td>458.85 lbf</td>\n",
       "      <td>610.12 lbf</td>\n",
       "    </tr>\n",
       "    <tr>\n",
       "      <th>3</th>\n",
       "      <td>2020-08-27 12:05:53.101</td>\n",
       "      <td>2020-08-25 12:00:00</td>\n",
       "      <td>0.5</td>\n",
       "      <td>443.82</td>\n",
       "      <td>1540.28</td>\n",
       "    </tr>\n",
       "    <tr>\n",
       "      <th>4</th>\n",
       "      <td>2020-08-27 13:02:48.533</td>\n",
       "      <td>2020-08-25 17:30:00</td>\n",
       "      <td>0.5</td>\n",
       "      <td>597.02</td>\n",
       "      <td>1680.72</td>\n",
       "    </tr>\n",
       "  </tbody>\n",
       "</table>\n",
       "</div>"
      ],
      "text/plain": [
       "                timestamp             testtime                   wc_ratio  \\\n",
       "0 2020-08-25 20:05:14.162  2020-08-25 08:30:00                       0.55   \n",
       "1 2020-08-25 21:20:12.812  2020-08-25 16:30:00  Tuesdays lab (0.50 ratio)   \n",
       "2 2020-08-26 21:25:19.644  2020-08-25 15:14:00                        0.5   \n",
       "3 2020-08-27 12:05:53.101  2020-08-25 12:00:00                        0.5   \n",
       "4 2020-08-27 13:02:48.533  2020-08-25 17:30:00                        0.5   \n",
       "\n",
       "   unreinforced      reinforced  \n",
       "0  620.1272 lbf  2,059.9807 lbf  \n",
       "1  436.48571lbf   2184.34074lbf  \n",
       "2    458.85 lbf      610.12 lbf  \n",
       "3        443.82         1540.28  \n",
       "4        597.02         1680.72  "
      ]
     },
     "execution_count": 3,
     "metadata": {},
     "output_type": "execute_result"
    }
   ],
   "source": [
    "## Rename cols\n",
    "data.columns = ['timestamp', 'testtime', 'wc_ratio', 'unreinforced', 'reinforced']\n",
    "data.head()"
   ]
  },
  {
   "cell_type": "code",
   "execution_count": 6,
   "id": "a75c05d4",
   "metadata": {},
   "outputs": [
    {
     "data": {
      "text/html": [
       "<div>\n",
       "<style scoped>\n",
       "    .dataframe tbody tr th:only-of-type {\n",
       "        vertical-align: middle;\n",
       "    }\n",
       "\n",
       "    .dataframe tbody tr th {\n",
       "        vertical-align: top;\n",
       "    }\n",
       "\n",
       "    .dataframe thead th {\n",
       "        text-align: right;\n",
       "    }\n",
       "</style>\n",
       "<table border=\"1\" class=\"dataframe\">\n",
       "  <thead>\n",
       "    <tr style=\"text-align: right;\">\n",
       "      <th></th>\n",
       "      <th>timestamp</th>\n",
       "      <th>testtime</th>\n",
       "      <th>wc_ratio</th>\n",
       "      <th>unreinforced</th>\n",
       "      <th>reinforced</th>\n",
       "    </tr>\n",
       "  </thead>\n",
       "  <tbody>\n",
       "    <tr>\n",
       "      <th>0</th>\n",
       "      <td>2020-08-25 20:05:14.162</td>\n",
       "      <td>2020-08-25 08:30:00</td>\n",
       "      <td>0.55</td>\n",
       "      <td>620.12720</td>\n",
       "      <td>2059.98070</td>\n",
       "    </tr>\n",
       "    <tr>\n",
       "      <th>1</th>\n",
       "      <td>2020-08-25 21:20:12.812</td>\n",
       "      <td>2020-08-25 16:30:00</td>\n",
       "      <td>0.50</td>\n",
       "      <td>436.48571</td>\n",
       "      <td>2184.34074</td>\n",
       "    </tr>\n",
       "    <tr>\n",
       "      <th>2</th>\n",
       "      <td>2020-08-26 21:25:19.644</td>\n",
       "      <td>2020-08-25 15:14:00</td>\n",
       "      <td>0.50</td>\n",
       "      <td>458.85000</td>\n",
       "      <td>610.12000</td>\n",
       "    </tr>\n",
       "    <tr>\n",
       "      <th>3</th>\n",
       "      <td>2020-08-27 12:05:53.101</td>\n",
       "      <td>2020-08-25 12:00:00</td>\n",
       "      <td>0.50</td>\n",
       "      <td>443.82000</td>\n",
       "      <td>1540.28000</td>\n",
       "    </tr>\n",
       "    <tr>\n",
       "      <th>4</th>\n",
       "      <td>2020-08-27 13:02:48.533</td>\n",
       "      <td>2020-08-25 17:30:00</td>\n",
       "      <td>0.50</td>\n",
       "      <td>597.02000</td>\n",
       "      <td>1680.72000</td>\n",
       "    </tr>\n",
       "    <tr>\n",
       "      <th>...</th>\n",
       "      <td>...</td>\n",
       "      <td>...</td>\n",
       "      <td>...</td>\n",
       "      <td>...</td>\n",
       "      <td>...</td>\n",
       "    </tr>\n",
       "    <tr>\n",
       "      <th>337</th>\n",
       "      <td>2023-10-05 13:08:38.428</td>\n",
       "      <td>2023-09-28 16:30:00</td>\n",
       "      <td>0.55</td>\n",
       "      <td>614.00000</td>\n",
       "      <td>1718.50000</td>\n",
       "    </tr>\n",
       "    <tr>\n",
       "      <th>338</th>\n",
       "      <td>2023-10-05 13:45:43.346</td>\n",
       "      <td>2023-09-28 16:30:00</td>\n",
       "      <td>0.55</td>\n",
       "      <td>452.82050</td>\n",
       "      <td>1910.07300</td>\n",
       "    </tr>\n",
       "    <tr>\n",
       "      <th>339</th>\n",
       "      <td>2023-10-05 14:05:48.096</td>\n",
       "      <td>2023-09-28 16:50:00</td>\n",
       "      <td>0.55</td>\n",
       "      <td>625.32570</td>\n",
       "      <td>2480.58600</td>\n",
       "    </tr>\n",
       "    <tr>\n",
       "      <th>340</th>\n",
       "      <td>2023-10-05 16:39:52.324</td>\n",
       "      <td>2023-09-28 12:45:00</td>\n",
       "      <td>0.55</td>\n",
       "      <td>471.49750</td>\n",
       "      <td>1694.77400</td>\n",
       "    </tr>\n",
       "    <tr>\n",
       "      <th>341</th>\n",
       "      <td>2023-10-12 14:29:02.349</td>\n",
       "      <td>2023-09-21 16:50:00</td>\n",
       "      <td>0.55</td>\n",
       "      <td>536.27540</td>\n",
       "      <td>1723.84300</td>\n",
       "    </tr>\n",
       "  </tbody>\n",
       "</table>\n",
       "<p>342 rows × 5 columns</p>\n",
       "</div>"
      ],
      "text/plain": [
       "                  timestamp             testtime  wc_ratio  unreinforced  \\\n",
       "0   2020-08-25 20:05:14.162  2020-08-25 08:30:00      0.55     620.12720   \n",
       "1   2020-08-25 21:20:12.812  2020-08-25 16:30:00      0.50     436.48571   \n",
       "2   2020-08-26 21:25:19.644  2020-08-25 15:14:00      0.50     458.85000   \n",
       "3   2020-08-27 12:05:53.101  2020-08-25 12:00:00      0.50     443.82000   \n",
       "4   2020-08-27 13:02:48.533  2020-08-25 17:30:00      0.50     597.02000   \n",
       "..                      ...                  ...       ...           ...   \n",
       "337 2023-10-05 13:08:38.428  2023-09-28 16:30:00      0.55     614.00000   \n",
       "338 2023-10-05 13:45:43.346  2023-09-28 16:30:00      0.55     452.82050   \n",
       "339 2023-10-05 14:05:48.096  2023-09-28 16:50:00      0.55     625.32570   \n",
       "340 2023-10-05 16:39:52.324  2023-09-28 12:45:00      0.55     471.49750   \n",
       "341 2023-10-12 14:29:02.349  2023-09-21 16:50:00      0.55     536.27540   \n",
       "\n",
       "     reinforced  \n",
       "0    2059.98070  \n",
       "1    2184.34074  \n",
       "2     610.12000  \n",
       "3    1540.28000  \n",
       "4    1680.72000  \n",
       "..          ...  \n",
       "337  1718.50000  \n",
       "338  1910.07300  \n",
       "339  2480.58600  \n",
       "340  1694.77400  \n",
       "341  1723.84300  \n",
       "\n",
       "[342 rows x 5 columns]"
      ]
     },
     "execution_count": 6,
     "metadata": {},
     "output_type": "execute_result"
    }
   ],
   "source": [
    "## Standardize wc_ratio column to only be 0.5 or 0.55\n",
    "data['wc_ratio'] = [0.55 if \"Thursday\" in str(val) or \"55\" in str(val) else 0.50 for val in data['wc_ratio']]\n",
    "\n",
    "\n",
    "## Delete any rows with negative values\n",
    "data.reset_index(inplace=True, drop=True)\n",
    "data['reinforced'] = data['reinforced'].astype(str)\n",
    "data = data[data['reinforced'].str.contains('-')==False]\n",
    "\n",
    "data.reset_index(inplace=True, drop=True)\n",
    "data['unreinforced'] = data['unreinforced'].astype(str)\n",
    "data = data[data['unreinforced'].str.contains('-')==False]\n",
    "\n",
    "\n",
    "## Strip \"lbf\" and other non-numeric characters from cols\n",
    "## /^-?[^\\d,.]/g/\n",
    "data.reset_index(inplace=True, drop=True)\n",
    "non_decimal = re.compile(r'[^\\d.]+')\n",
    "data['reinforced'] = pd.Series([non_decimal.sub(\"\", figure) for figure in data['reinforced'].astype(str)])\n",
    "data['unreinforced'] = pd.Series([non_decimal.sub(\"\", figure) for figure in data['unreinforced'].astype(str)])\n",
    "\n",
    "## Convert empty cells to None and convert column type to float.\n",
    "data['reinforced'] = np.array([None if val == '' else val for val in data['reinforced']]).astype(float)\n",
    "data['unreinforced'] = np.array([None if val == '' else val for val in data['unreinforced']]).astype(float)\n",
    "\n",
    "\n",
    "data"
   ]
  },
  {
   "cell_type": "code",
   "execution_count": 43,
   "id": "c23b1c50",
   "metadata": {},
   "outputs": [
    {
     "data": {
      "text/html": [
       "<div>\n",
       "<style scoped>\n",
       "    .dataframe tbody tr th:only-of-type {\n",
       "        vertical-align: middle;\n",
       "    }\n",
       "\n",
       "    .dataframe tbody tr th {\n",
       "        vertical-align: top;\n",
       "    }\n",
       "\n",
       "    .dataframe thead th {\n",
       "        text-align: right;\n",
       "    }\n",
       "</style>\n",
       "<table border=\"1\" class=\"dataframe\">\n",
       "  <thead>\n",
       "    <tr style=\"text-align: right;\">\n",
       "      <th></th>\n",
       "      <th>timestamp</th>\n",
       "      <th>testtime</th>\n",
       "      <th>wc_ratio</th>\n",
       "      <th>unreinforced</th>\n",
       "      <th>reinforced</th>\n",
       "    </tr>\n",
       "  </thead>\n",
       "  <tbody>\n",
       "    <tr>\n",
       "      <th>0</th>\n",
       "      <td>2020-08-25 20:05:14.162</td>\n",
       "      <td>2020-08-25 08:30:00</td>\n",
       "      <td>0.55</td>\n",
       "      <td>620.12720</td>\n",
       "      <td>2059.98070</td>\n",
       "    </tr>\n",
       "    <tr>\n",
       "      <th>1</th>\n",
       "      <td>2020-08-25 21:20:12.812</td>\n",
       "      <td>2020-08-25 16:30:00</td>\n",
       "      <td>0.50</td>\n",
       "      <td>436.48571</td>\n",
       "      <td>2184.34074</td>\n",
       "    </tr>\n",
       "    <tr>\n",
       "      <th>2</th>\n",
       "      <td>2020-08-26 21:25:19.644</td>\n",
       "      <td>2020-08-25 15:14:00</td>\n",
       "      <td>0.50</td>\n",
       "      <td>458.85000</td>\n",
       "      <td>610.12000</td>\n",
       "    </tr>\n",
       "    <tr>\n",
       "      <th>3</th>\n",
       "      <td>2020-08-27 12:05:53.101</td>\n",
       "      <td>2020-08-25 12:00:00</td>\n",
       "      <td>0.50</td>\n",
       "      <td>443.82000</td>\n",
       "      <td>1540.28000</td>\n",
       "    </tr>\n",
       "    <tr>\n",
       "      <th>4</th>\n",
       "      <td>2020-08-27 13:02:48.533</td>\n",
       "      <td>2020-08-25 17:30:00</td>\n",
       "      <td>0.50</td>\n",
       "      <td>597.02000</td>\n",
       "      <td>1680.72000</td>\n",
       "    </tr>\n",
       "    <tr>\n",
       "      <th>...</th>\n",
       "      <td>...</td>\n",
       "      <td>...</td>\n",
       "      <td>...</td>\n",
       "      <td>...</td>\n",
       "      <td>...</td>\n",
       "    </tr>\n",
       "    <tr>\n",
       "      <th>320</th>\n",
       "      <td>2023-10-05 13:08:38.428</td>\n",
       "      <td>2023-09-28 16:30:00</td>\n",
       "      <td>0.55</td>\n",
       "      <td>614.00000</td>\n",
       "      <td>1718.50000</td>\n",
       "    </tr>\n",
       "    <tr>\n",
       "      <th>321</th>\n",
       "      <td>2023-10-05 13:45:43.346</td>\n",
       "      <td>2023-09-28 16:30:00</td>\n",
       "      <td>0.55</td>\n",
       "      <td>452.82050</td>\n",
       "      <td>1910.07300</td>\n",
       "    </tr>\n",
       "    <tr>\n",
       "      <th>322</th>\n",
       "      <td>2023-10-05 14:05:48.096</td>\n",
       "      <td>2023-09-28 16:50:00</td>\n",
       "      <td>0.55</td>\n",
       "      <td>625.32570</td>\n",
       "      <td>2480.58600</td>\n",
       "    </tr>\n",
       "    <tr>\n",
       "      <th>323</th>\n",
       "      <td>2023-10-05 16:39:52.324</td>\n",
       "      <td>2023-09-28 12:45:00</td>\n",
       "      <td>0.55</td>\n",
       "      <td>471.49750</td>\n",
       "      <td>1694.77400</td>\n",
       "    </tr>\n",
       "    <tr>\n",
       "      <th>324</th>\n",
       "      <td>2023-10-12 14:29:02.349</td>\n",
       "      <td>2023-09-21 16:50:00</td>\n",
       "      <td>0.55</td>\n",
       "      <td>536.27540</td>\n",
       "      <td>1723.84300</td>\n",
       "    </tr>\n",
       "  </tbody>\n",
       "</table>\n",
       "<p>325 rows × 5 columns</p>\n",
       "</div>"
      ],
      "text/plain": [
       "                  timestamp             testtime  wc_ratio  unreinforced  \\\n",
       "0   2020-08-25 20:05:14.162  2020-08-25 08:30:00      0.55     620.12720   \n",
       "1   2020-08-25 21:20:12.812  2020-08-25 16:30:00      0.50     436.48571   \n",
       "2   2020-08-26 21:25:19.644  2020-08-25 15:14:00      0.50     458.85000   \n",
       "3   2020-08-27 12:05:53.101  2020-08-25 12:00:00      0.50     443.82000   \n",
       "4   2020-08-27 13:02:48.533  2020-08-25 17:30:00      0.50     597.02000   \n",
       "..                      ...                  ...       ...           ...   \n",
       "320 2023-10-05 13:08:38.428  2023-09-28 16:30:00      0.55     614.00000   \n",
       "321 2023-10-05 13:45:43.346  2023-09-28 16:30:00      0.55     452.82050   \n",
       "322 2023-10-05 14:05:48.096  2023-09-28 16:50:00      0.55     625.32570   \n",
       "323 2023-10-05 16:39:52.324  2023-09-28 12:45:00      0.55     471.49750   \n",
       "324 2023-10-12 14:29:02.349  2023-09-21 16:50:00      0.55     536.27540   \n",
       "\n",
       "     reinforced  \n",
       "0    2059.98070  \n",
       "1    2184.34074  \n",
       "2     610.12000  \n",
       "3    1540.28000  \n",
       "4    1680.72000  \n",
       "..          ...  \n",
       "320  1718.50000  \n",
       "321  1910.07300  \n",
       "322  2480.58600  \n",
       "323  1694.77400  \n",
       "324  1723.84300  \n",
       "\n",
       "[325 rows x 5 columns]"
      ]
     },
     "execution_count": 43,
     "metadata": {},
     "output_type": "execute_result"
    }
   ],
   "source": [
    "## Machine cannot apply more than 6,000lbf of pressure, so strip any data points that contain values that exceed that\n",
    "## because they are due to human error.\n",
    "\n",
    "data = data[data['unreinforced'] < 1000]\n",
    "data = data[data['reinforced'] < 6000]\n",
    "data.reset_index(inplace=True, drop=True)\n",
    "data"
   ]
  },
  {
   "cell_type": "code",
   "execution_count": 44,
   "id": "4661cf73",
   "metadata": {},
   "outputs": [
    {
     "data": {
      "text/plain": [
       "timestamp       datetime64[ns]\n",
       "testtime                object\n",
       "wc_ratio               float64\n",
       "unreinforced           float64\n",
       "reinforced             float64\n",
       "dtype: object"
      ]
     },
     "execution_count": 44,
     "metadata": {},
     "output_type": "execute_result"
    }
   ],
   "source": [
    "## TO DO: Convert testtime column to datetime.\n",
    "data.dtypes"
   ]
  },
  {
   "cell_type": "code",
   "execution_count": 45,
   "id": "685a90ac",
   "metadata": {},
   "outputs": [],
   "source": [
    "data50 = data[data['wc_ratio']==0.50]\n",
    "data55 = data[data['wc_ratio']==0.55]"
   ]
  },
  {
   "cell_type": "code",
   "execution_count": 46,
   "id": "123a0571",
   "metadata": {},
   "outputs": [
    {
     "data": {
      "text/html": [
       "<div>\n",
       "<style scoped>\n",
       "    .dataframe tbody tr th:only-of-type {\n",
       "        vertical-align: middle;\n",
       "    }\n",
       "\n",
       "    .dataframe tbody tr th {\n",
       "        vertical-align: top;\n",
       "    }\n",
       "\n",
       "    .dataframe thead th {\n",
       "        text-align: right;\n",
       "    }\n",
       "</style>\n",
       "<table border=\"1\" class=\"dataframe\">\n",
       "  <thead>\n",
       "    <tr style=\"text-align: right;\">\n",
       "      <th></th>\n",
       "      <th>wc_ratio</th>\n",
       "      <th>unreinforced</th>\n",
       "      <th>reinforced</th>\n",
       "    </tr>\n",
       "  </thead>\n",
       "  <tbody>\n",
       "    <tr>\n",
       "      <th>count</th>\n",
       "      <td>156.0</td>\n",
       "      <td>156.000000</td>\n",
       "      <td>156.000000</td>\n",
       "    </tr>\n",
       "    <tr>\n",
       "      <th>mean</th>\n",
       "      <td>0.5</td>\n",
       "      <td>540.614650</td>\n",
       "      <td>2102.137731</td>\n",
       "    </tr>\n",
       "    <tr>\n",
       "      <th>std</th>\n",
       "      <td>0.0</td>\n",
       "      <td>167.073453</td>\n",
       "      <td>604.373879</td>\n",
       "    </tr>\n",
       "    <tr>\n",
       "      <th>min</th>\n",
       "      <td>0.5</td>\n",
       "      <td>0.111710</td>\n",
       "      <td>339.019450</td>\n",
       "    </tr>\n",
       "    <tr>\n",
       "      <th>25%</th>\n",
       "      <td>0.5</td>\n",
       "      <td>460.089600</td>\n",
       "      <td>1724.963638</td>\n",
       "    </tr>\n",
       "    <tr>\n",
       "      <th>50%</th>\n",
       "      <td>0.5</td>\n",
       "      <td>565.545615</td>\n",
       "      <td>2084.486600</td>\n",
       "    </tr>\n",
       "    <tr>\n",
       "      <th>75%</th>\n",
       "      <td>0.5</td>\n",
       "      <td>649.439575</td>\n",
       "      <td>2421.421467</td>\n",
       "    </tr>\n",
       "    <tr>\n",
       "      <th>max</th>\n",
       "      <td>0.5</td>\n",
       "      <td>952.140030</td>\n",
       "      <td>4149.528000</td>\n",
       "    </tr>\n",
       "  </tbody>\n",
       "</table>\n",
       "</div>"
      ],
      "text/plain": [
       "       wc_ratio  unreinforced   reinforced\n",
       "count     156.0    156.000000   156.000000\n",
       "mean        0.5    540.614650  2102.137731\n",
       "std         0.0    167.073453   604.373879\n",
       "min         0.5      0.111710   339.019450\n",
       "25%         0.5    460.089600  1724.963638\n",
       "50%         0.5    565.545615  2084.486600\n",
       "75%         0.5    649.439575  2421.421467\n",
       "max         0.5    952.140030  4149.528000"
      ]
     },
     "execution_count": 46,
     "metadata": {},
     "output_type": "execute_result"
    }
   ],
   "source": [
    "data50.describe()"
   ]
  },
  {
   "cell_type": "code",
   "execution_count": 47,
   "id": "b1138676",
   "metadata": {},
   "outputs": [
    {
     "data": {
      "text/html": [
       "<div>\n",
       "<style scoped>\n",
       "    .dataframe tbody tr th:only-of-type {\n",
       "        vertical-align: middle;\n",
       "    }\n",
       "\n",
       "    .dataframe tbody tr th {\n",
       "        vertical-align: top;\n",
       "    }\n",
       "\n",
       "    .dataframe thead th {\n",
       "        text-align: right;\n",
       "    }\n",
       "</style>\n",
       "<table border=\"1\" class=\"dataframe\">\n",
       "  <thead>\n",
       "    <tr style=\"text-align: right;\">\n",
       "      <th></th>\n",
       "      <th>wc_ratio</th>\n",
       "      <th>unreinforced</th>\n",
       "      <th>reinforced</th>\n",
       "    </tr>\n",
       "  </thead>\n",
       "  <tbody>\n",
       "    <tr>\n",
       "      <th>count</th>\n",
       "      <td>1.690000e+02</td>\n",
       "      <td>169.000000</td>\n",
       "      <td>169.000000</td>\n",
       "    </tr>\n",
       "    <tr>\n",
       "      <th>mean</th>\n",
       "      <td>5.500000e-01</td>\n",
       "      <td>503.784213</td>\n",
       "      <td>1909.857108</td>\n",
       "    </tr>\n",
       "    <tr>\n",
       "      <th>std</th>\n",
       "      <td>1.113522e-16</td>\n",
       "      <td>159.219079</td>\n",
       "      <td>564.875316</td>\n",
       "    </tr>\n",
       "    <tr>\n",
       "      <th>min</th>\n",
       "      <td>5.500000e-01</td>\n",
       "      <td>1.000000</td>\n",
       "      <td>128.440920</td>\n",
       "    </tr>\n",
       "    <tr>\n",
       "      <th>25%</th>\n",
       "      <td>5.500000e-01</td>\n",
       "      <td>422.475830</td>\n",
       "      <td>1655.000000</td>\n",
       "    </tr>\n",
       "    <tr>\n",
       "      <th>50%</th>\n",
       "      <td>5.500000e-01</td>\n",
       "      <td>488.950000</td>\n",
       "      <td>1896.108000</td>\n",
       "    </tr>\n",
       "    <tr>\n",
       "      <th>75%</th>\n",
       "      <td>5.500000e-01</td>\n",
       "      <td>597.065220</td>\n",
       "      <td>2229.990580</td>\n",
       "    </tr>\n",
       "    <tr>\n",
       "      <th>max</th>\n",
       "      <td>5.500000e-01</td>\n",
       "      <td>880.000000</td>\n",
       "      <td>3179.486880</td>\n",
       "    </tr>\n",
       "  </tbody>\n",
       "</table>\n",
       "</div>"
      ],
      "text/plain": [
       "           wc_ratio  unreinforced   reinforced\n",
       "count  1.690000e+02    169.000000   169.000000\n",
       "mean   5.500000e-01    503.784213  1909.857108\n",
       "std    1.113522e-16    159.219079   564.875316\n",
       "min    5.500000e-01      1.000000   128.440920\n",
       "25%    5.500000e-01    422.475830  1655.000000\n",
       "50%    5.500000e-01    488.950000  1896.108000\n",
       "75%    5.500000e-01    597.065220  2229.990580\n",
       "max    5.500000e-01    880.000000  3179.486880"
      ]
     },
     "execution_count": 47,
     "metadata": {},
     "output_type": "execute_result"
    }
   ],
   "source": [
    "data55.describe()"
   ]
  },
  {
   "cell_type": "code",
   "execution_count": 48,
   "id": "5e9c4a70",
   "metadata": {},
   "outputs": [
    {
     "data": {
      "text/plain": [
       "Text(0.5, 0, 'Type')"
      ]
     },
     "execution_count": 48,
     "metadata": {},
     "output_type": "execute_result"
    },
    {
     "data": {
      "image/png": "[encoded data removed]",
      "text/plain": [
       "<Figure size 1000x500 with 1 Axes>"
      ]
     },
     "metadata": {},
     "output_type": "display_data"
    }
   ],
   "source": [
    "fig = plt.figure(figsize = (10, 5))\n",
    "ax = fig.add_subplot(111)\n",
    "\n",
    "vals = {'UnReinforced 55': data55['unreinforced'], 'UnReinforced 50': data50['unreinforced'], 'Reinforced 55': data55['reinforced'], 'Reinforced 50': data50['reinforced']}\n",
    "ax.boxplot(vals.values(),patch_artist=True,\n",
    "            boxprops=dict(facecolor='lightblue', color='black'),\n",
    "            capprops=dict(color='black'),\n",
    "            whiskerprops=dict(color='black'),\n",
    "            flierprops=dict(markeredgecolor='black'),\n",
    "            medianprops=dict(color='black', linewidth=2),)\n",
    "ax.set_facecolor('aliceblue')\n",
    "ax.set_xticklabels(vals.keys(), rotation = 90)\n",
    "ax.set_ylabel('Breaking Strength (lbf)', size = 13)\n",
    "ax.set_xlabel('Type', size = 13)"
   ]
  },
  {
   "cell_type": "code",
   "execution_count": 49,
   "id": "e09bf669",
   "metadata": {},
   "outputs": [
    {
     "data": {
      "text/plain": [
       "Ttest_indResult(statistic=2.034645895460831, pvalue=0.042702936594808526)"
      ]
     },
     "execution_count": 49,
     "metadata": {},
     "output_type": "execute_result"
    }
   ],
   "source": [
    "## Is the difference in mean statistically significant?\n",
    "stats.ttest_ind(data50['unreinforced'], data55['unreinforced'], axis=0)"
   ]
  },
  {
   "cell_type": "code",
   "execution_count": 50,
   "id": "6bd29930",
   "metadata": {},
   "outputs": [
    {
     "data": {
      "text/plain": [
       "Ttest_indResult(statistic=2.9645948555978228, pvalue=0.00325629620510519)"
      ]
     },
     "execution_count": 50,
     "metadata": {},
     "output_type": "execute_result"
    }
   ],
   "source": [
    "stats.ttest_ind(data50['reinforced'], data55['reinforced'], axis=0)"
   ]
  },
  {
   "cell_type": "markdown",
   "id": "0b0f45a8",
   "metadata": {},
   "source": [
    "### Comparing Data Between Years"
   ]
  },
  {
   "cell_type": "code",
   "execution_count": 51,
   "id": "db9a6e4f",
   "metadata": {},
   "outputs": [],
   "source": [
    "data2020 = data[data['timestamp'].dt.year == 2020]\n",
    "data2021 = data[data['timestamp'].dt.year == 2021]\n",
    "data2022 = data[data['timestamp'].dt.year == 2022]\n",
    "data2023 = data[data['timestamp'].dt.year == 2023]"
   ]
  },
  {
   "cell_type": "code",
   "execution_count": 52,
   "id": "dc895b97",
   "metadata": {},
   "outputs": [],
   "source": [
    "data2020_50 = data2020[data2020['wc_ratio']==0.50]\n",
    "data2020_55 = data2020[data2020['wc_ratio']==0.55]\n",
    "\n",
    "data2021_50 = data2021[data2021['wc_ratio']==0.50]\n",
    "data2021_55 = data2021[data2021['wc_ratio']==0.55]\n",
    "\n",
    "data2022_50 = data2022[data2022['wc_ratio']==0.50]\n",
    "data2022_55 = data2022[data2022['wc_ratio']==0.55]\n",
    "\n",
    "data2023_50 = data2023[data2023['wc_ratio']==0.50]\n",
    "data2023_55 = data2023[data2023['wc_ratio']==0.55]"
   ]
  },
  {
   "cell_type": "code",
   "execution_count": 53,
   "id": "7a8c19fb",
   "metadata": {},
   "outputs": [
    {
     "data": {
      "text/html": [
       "<div>\n",
       "<style scoped>\n",
       "    .dataframe tbody tr th:only-of-type {\n",
       "        vertical-align: middle;\n",
       "    }\n",
       "\n",
       "    .dataframe tbody tr th {\n",
       "        vertical-align: top;\n",
       "    }\n",
       "\n",
       "    .dataframe thead th {\n",
       "        text-align: right;\n",
       "    }\n",
       "</style>\n",
       "<table border=\"1\" class=\"dataframe\">\n",
       "  <thead>\n",
       "    <tr style=\"text-align: right;\">\n",
       "      <th></th>\n",
       "      <th>wc_ratio</th>\n",
       "      <th>unreinforced</th>\n",
       "      <th>reinforced</th>\n",
       "    </tr>\n",
       "  </thead>\n",
       "  <tbody>\n",
       "    <tr>\n",
       "      <th>count</th>\n",
       "      <td>35.0</td>\n",
       "      <td>35.000000</td>\n",
       "      <td>35.000000</td>\n",
       "    </tr>\n",
       "    <tr>\n",
       "      <th>mean</th>\n",
       "      <td>0.5</td>\n",
       "      <td>426.382193</td>\n",
       "      <td>1673.908211</td>\n",
       "    </tr>\n",
       "    <tr>\n",
       "      <th>std</th>\n",
       "      <td>0.0</td>\n",
       "      <td>154.823768</td>\n",
       "      <td>510.004385</td>\n",
       "    </tr>\n",
       "    <tr>\n",
       "      <th>min</th>\n",
       "      <td>0.5</td>\n",
       "      <td>0.111710</td>\n",
       "      <td>339.019450</td>\n",
       "    </tr>\n",
       "    <tr>\n",
       "      <th>25%</th>\n",
       "      <td>0.5</td>\n",
       "      <td>384.822000</td>\n",
       "      <td>1534.468500</td>\n",
       "    </tr>\n",
       "    <tr>\n",
       "      <th>50%</th>\n",
       "      <td>0.5</td>\n",
       "      <td>443.328120</td>\n",
       "      <td>1728.398850</td>\n",
       "    </tr>\n",
       "    <tr>\n",
       "      <th>75%</th>\n",
       "      <td>0.5</td>\n",
       "      <td>485.319250</td>\n",
       "      <td>2010.590470</td>\n",
       "    </tr>\n",
       "    <tr>\n",
       "      <th>max</th>\n",
       "      <td>0.5</td>\n",
       "      <td>711.399200</td>\n",
       "      <td>2399.889450</td>\n",
       "    </tr>\n",
       "  </tbody>\n",
       "</table>\n",
       "</div>"
      ],
      "text/plain": [
       "       wc_ratio  unreinforced   reinforced\n",
       "count      35.0     35.000000    35.000000\n",
       "mean        0.5    426.382193  1673.908211\n",
       "std         0.0    154.823768   510.004385\n",
       "min         0.5      0.111710   339.019450\n",
       "25%         0.5    384.822000  1534.468500\n",
       "50%         0.5    443.328120  1728.398850\n",
       "75%         0.5    485.319250  2010.590470\n",
       "max         0.5    711.399200  2399.889450"
      ]
     },
     "execution_count": 53,
     "metadata": {},
     "output_type": "execute_result"
    }
   ],
   "source": [
    "## Summarize all 50\n",
    "data2020_50.describe()"
   ]
  },
  {
   "cell_type": "code",
   "execution_count": 54,
   "id": "97162515",
   "metadata": {},
   "outputs": [
    {
     "data": {
      "text/html": [
       "<div>\n",
       "<style scoped>\n",
       "    .dataframe tbody tr th:only-of-type {\n",
       "        vertical-align: middle;\n",
       "    }\n",
       "\n",
       "    .dataframe tbody tr th {\n",
       "        vertical-align: top;\n",
       "    }\n",
       "\n",
       "    .dataframe thead th {\n",
       "        text-align: right;\n",
       "    }\n",
       "</style>\n",
       "<table border=\"1\" class=\"dataframe\">\n",
       "  <thead>\n",
       "    <tr style=\"text-align: right;\">\n",
       "      <th></th>\n",
       "      <th>wc_ratio</th>\n",
       "      <th>unreinforced</th>\n",
       "      <th>reinforced</th>\n",
       "    </tr>\n",
       "  </thead>\n",
       "  <tbody>\n",
       "    <tr>\n",
       "      <th>count</th>\n",
       "      <td>46.0</td>\n",
       "      <td>46.000000</td>\n",
       "      <td>46.000000</td>\n",
       "    </tr>\n",
       "    <tr>\n",
       "      <th>mean</th>\n",
       "      <td>0.5</td>\n",
       "      <td>605.112135</td>\n",
       "      <td>2280.418423</td>\n",
       "    </tr>\n",
       "    <tr>\n",
       "      <th>std</th>\n",
       "      <td>0.0</td>\n",
       "      <td>134.553585</td>\n",
       "      <td>466.753871</td>\n",
       "    </tr>\n",
       "    <tr>\n",
       "      <th>min</th>\n",
       "      <td>0.5</td>\n",
       "      <td>91.917280</td>\n",
       "      <td>869.089210</td>\n",
       "    </tr>\n",
       "    <tr>\n",
       "      <th>25%</th>\n",
       "      <td>0.5</td>\n",
       "      <td>525.604687</td>\n",
       "      <td>1988.232500</td>\n",
       "    </tr>\n",
       "    <tr>\n",
       "      <th>50%</th>\n",
       "      <td>0.5</td>\n",
       "      <td>603.039350</td>\n",
       "      <td>2253.825500</td>\n",
       "    </tr>\n",
       "    <tr>\n",
       "      <th>75%</th>\n",
       "      <td>0.5</td>\n",
       "      <td>681.312648</td>\n",
       "      <td>2606.223635</td>\n",
       "    </tr>\n",
       "    <tr>\n",
       "      <th>max</th>\n",
       "      <td>0.5</td>\n",
       "      <td>952.140030</td>\n",
       "      <td>3075.991000</td>\n",
       "    </tr>\n",
       "  </tbody>\n",
       "</table>\n",
       "</div>"
      ],
      "text/plain": [
       "       wc_ratio  unreinforced   reinforced\n",
       "count      46.0     46.000000    46.000000\n",
       "mean        0.5    605.112135  2280.418423\n",
       "std         0.0    134.553585   466.753871\n",
       "min         0.5     91.917280   869.089210\n",
       "25%         0.5    525.604687  1988.232500\n",
       "50%         0.5    603.039350  2253.825500\n",
       "75%         0.5    681.312648  2606.223635\n",
       "max         0.5    952.140030  3075.991000"
      ]
     },
     "execution_count": 54,
     "metadata": {},
     "output_type": "execute_result"
    }
   ],
   "source": [
    "data2021_50.describe()"
   ]
  },
  {
   "cell_type": "code",
   "execution_count": 55,
   "id": "f1805027",
   "metadata": {},
   "outputs": [
    {
     "data": {
      "text/html": [
       "<div>\n",
       "<style scoped>\n",
       "    .dataframe tbody tr th:only-of-type {\n",
       "        vertical-align: middle;\n",
       "    }\n",
       "\n",
       "    .dataframe tbody tr th {\n",
       "        vertical-align: top;\n",
       "    }\n",
       "\n",
       "    .dataframe thead th {\n",
       "        text-align: right;\n",
       "    }\n",
       "</style>\n",
       "<table border=\"1\" class=\"dataframe\">\n",
       "  <thead>\n",
       "    <tr style=\"text-align: right;\">\n",
       "      <th></th>\n",
       "      <th>wc_ratio</th>\n",
       "      <th>unreinforced</th>\n",
       "      <th>reinforced</th>\n",
       "    </tr>\n",
       "  </thead>\n",
       "  <tbody>\n",
       "    <tr>\n",
       "      <th>count</th>\n",
       "      <td>27.0</td>\n",
       "      <td>27.000000</td>\n",
       "      <td>27.000000</td>\n",
       "    </tr>\n",
       "    <tr>\n",
       "      <th>mean</th>\n",
       "      <td>0.5</td>\n",
       "      <td>588.767285</td>\n",
       "      <td>2181.182737</td>\n",
       "    </tr>\n",
       "    <tr>\n",
       "      <th>std</th>\n",
       "      <td>0.0</td>\n",
       "      <td>178.488465</td>\n",
       "      <td>548.915382</td>\n",
       "    </tr>\n",
       "    <tr>\n",
       "      <th>min</th>\n",
       "      <td>0.5</td>\n",
       "      <td>12.000000</td>\n",
       "      <td>865.961720</td>\n",
       "    </tr>\n",
       "    <tr>\n",
       "      <th>25%</th>\n",
       "      <td>0.5</td>\n",
       "      <td>559.890000</td>\n",
       "      <td>1851.530000</td>\n",
       "    </tr>\n",
       "    <tr>\n",
       "      <th>50%</th>\n",
       "      <td>0.5</td>\n",
       "      <td>604.247600</td>\n",
       "      <td>2286.000000</td>\n",
       "    </tr>\n",
       "    <tr>\n",
       "      <th>75%</th>\n",
       "      <td>0.5</td>\n",
       "      <td>655.495375</td>\n",
       "      <td>2475.000000</td>\n",
       "    </tr>\n",
       "    <tr>\n",
       "      <th>max</th>\n",
       "      <td>0.5</td>\n",
       "      <td>860.489310</td>\n",
       "      <td>3539.230000</td>\n",
       "    </tr>\n",
       "  </tbody>\n",
       "</table>\n",
       "</div>"
      ],
      "text/plain": [
       "       wc_ratio  unreinforced   reinforced\n",
       "count      27.0     27.000000    27.000000\n",
       "mean        0.5    588.767285  2181.182737\n",
       "std         0.0    178.488465   548.915382\n",
       "min         0.5     12.000000   865.961720\n",
       "25%         0.5    559.890000  1851.530000\n",
       "50%         0.5    604.247600  2286.000000\n",
       "75%         0.5    655.495375  2475.000000\n",
       "max         0.5    860.489310  3539.230000"
      ]
     },
     "execution_count": 55,
     "metadata": {},
     "output_type": "execute_result"
    }
   ],
   "source": [
    "data2022_50.describe()"
   ]
  },
  {
   "cell_type": "code",
   "execution_count": 56,
   "id": "f73500ba",
   "metadata": {},
   "outputs": [
    {
     "data": {
      "text/html": [
       "<div>\n",
       "<style scoped>\n",
       "    .dataframe tbody tr th:only-of-type {\n",
       "        vertical-align: middle;\n",
       "    }\n",
       "\n",
       "    .dataframe tbody tr th {\n",
       "        vertical-align: top;\n",
       "    }\n",
       "\n",
       "    .dataframe thead th {\n",
       "        text-align: right;\n",
       "    }\n",
       "</style>\n",
       "<table border=\"1\" class=\"dataframe\">\n",
       "  <thead>\n",
       "    <tr style=\"text-align: right;\">\n",
       "      <th></th>\n",
       "      <th>wc_ratio</th>\n",
       "      <th>unreinforced</th>\n",
       "      <th>reinforced</th>\n",
       "    </tr>\n",
       "  </thead>\n",
       "  <tbody>\n",
       "    <tr>\n",
       "      <th>count</th>\n",
       "      <td>48.0</td>\n",
       "      <td>48.000000</td>\n",
       "      <td>48.000000</td>\n",
       "    </tr>\n",
       "    <tr>\n",
       "      <th>mean</th>\n",
       "      <td>0.5</td>\n",
       "      <td>535.013203</td>\n",
       "      <td>2199.073277</td>\n",
       "    </tr>\n",
       "    <tr>\n",
       "      <th>std</th>\n",
       "      <td>0.0</td>\n",
       "      <td>156.857413</td>\n",
       "      <td>678.470867</td>\n",
       "    </tr>\n",
       "    <tr>\n",
       "      <th>min</th>\n",
       "      <td>0.5</td>\n",
       "      <td>28.550000</td>\n",
       "      <td>1145.625290</td>\n",
       "    </tr>\n",
       "    <tr>\n",
       "      <th>25%</th>\n",
       "      <td>0.5</td>\n",
       "      <td>460.965250</td>\n",
       "      <td>1686.404880</td>\n",
       "    </tr>\n",
       "    <tr>\n",
       "      <th>50%</th>\n",
       "      <td>0.5</td>\n",
       "      <td>558.341950</td>\n",
       "      <td>2132.264055</td>\n",
       "    </tr>\n",
       "    <tr>\n",
       "      <th>75%</th>\n",
       "      <td>0.5</td>\n",
       "      <td>657.790900</td>\n",
       "      <td>2440.487480</td>\n",
       "    </tr>\n",
       "    <tr>\n",
       "      <th>max</th>\n",
       "      <td>0.5</td>\n",
       "      <td>778.145900</td>\n",
       "      <td>4149.528000</td>\n",
       "    </tr>\n",
       "  </tbody>\n",
       "</table>\n",
       "</div>"
      ],
      "text/plain": [
       "       wc_ratio  unreinforced   reinforced\n",
       "count      48.0     48.000000    48.000000\n",
       "mean        0.5    535.013203  2199.073277\n",
       "std         0.0    156.857413   678.470867\n",
       "min         0.5     28.550000  1145.625290\n",
       "25%         0.5    460.965250  1686.404880\n",
       "50%         0.5    558.341950  2132.264055\n",
       "75%         0.5    657.790900  2440.487480\n",
       "max         0.5    778.145900  4149.528000"
      ]
     },
     "execution_count": 56,
     "metadata": {},
     "output_type": "execute_result"
    }
   ],
   "source": [
    "data2023_50.describe()"
   ]
  },
  {
   "cell_type": "code",
   "execution_count": 58,
   "id": "3c0c6300",
   "metadata": {},
   "outputs": [
    {
     "data": {
      "text/plain": [
       "Text(0.5, 1.0, 'Unreinforced Concrete with a Water Ratio of .50')"
      ]
     },
     "execution_count": 58,
     "metadata": {},
     "output_type": "execute_result"
    },
    {
     "data": {
      "image/png": "[encoded data removed]",
      "text/plain": [
       "<Figure size 1000x500 with 1 Axes>"
      ]
     },
     "metadata": {},
     "output_type": "display_data"
    }
   ],
   "source": [
    "fig = plt.figure(figsize = (10, 5))\n",
    "ax = fig.add_subplot(111)\n",
    "\n",
    "vals = {'2020': data2020_50['unreinforced'], '2021': data2021_50['unreinforced'], '2022': data2022_50['unreinforced'], '2023': data2023_50['unreinforced']}\n",
    "ax.boxplot(vals.values(),patch_artist=True,\n",
    "            boxprops=dict(facecolor='lightblue', color='black'),\n",
    "            capprops=dict(color='black'),\n",
    "            whiskerprops=dict(color='black'),\n",
    "            flierprops=dict(markeredgecolor='black'),\n",
    "            medianprops=dict(color='black', linewidth=2),)\n",
    "ax.set_facecolor('aliceblue')\n",
    "ax.set_xticklabels(vals.keys())\n",
    "ax.set_ylabel('Breaking Strength (lbf)', size = 13)\n",
    "ax.set_xlabel('Year', size = 13)\n",
    "ax.set_title('Unreinforced Concrete with a Water Ratio of .50')"
   ]
  },
  {
   "cell_type": "code",
   "execution_count": 60,
   "id": "babf9f69",
   "metadata": {},
   "outputs": [
    {
     "data": {
      "text/plain": [
       "Text(0.5, 1.0, 'Unreinforced Concrete with a Water Ratio of .55')"
      ]
     },
     "execution_count": 60,
     "metadata": {},
     "output_type": "execute_result"
    },
    {
     "data": {
      "image/png": "[encoded data removed]",
      "text/plain": [
       "<Figure size 1000x500 with 1 Axes>"
      ]
     },
     "metadata": {},
     "output_type": "display_data"
    }
   ],
   "source": [
    "fig = plt.figure(figsize = (10, 5))\n",
    "ax = fig.add_subplot(111)\n",
    "\n",
    "vals = {'2020': data2020_55['unreinforced'], '2021': data2021_55['unreinforced'], '2022': data2022_55['unreinforced'], '2023': data2023_55['unreinforced']}\n",
    "ax.boxplot(vals.values(),patch_artist=True,\n",
    "            boxprops=dict(facecolor='lightblue', color='black'),\n",
    "            capprops=dict(color='black'),\n",
    "            whiskerprops=dict(color='black'),\n",
    "            flierprops=dict(markeredgecolor='black'),\n",
    "            medianprops=dict(color='black', linewidth=2),)\n",
    "ax.set_facecolor('aliceblue')\n",
    "ax.set_xticklabels(vals.keys())\n",
    "ax.set_ylabel('Breaking Strength (lbf)', size = 13)\n",
    "ax.set_xlabel('Year', size = 13)\n",
    "ax.set_title('Unreinforced Concrete with a Water Ratio of .55')"
   ]
  },
  {
   "cell_type": "markdown",
   "id": "dc07ca19",
   "metadata": {},
   "source": [
    "### Compare P-Values of Different Years\n",
    "\n",
    "\n",
    "Water Ratio: 0.55\n",
    "\n",
    "Is the difference in the mean between 2021 and 2023 for unreinforced concrete at a water ratio of 0.55 statistically significant?"
   ]
  },
  {
   "cell_type": "code",
   "execution_count": 65,
   "id": "6f11a8fc",
   "metadata": {},
   "outputs": [
    {
     "data": {
      "text/plain": [
       "Ttest_indResult(statistic=2.6355650880959276, pvalue=0.009982306651204021)"
      ]
     },
     "execution_count": 65,
     "metadata": {},
     "output_type": "execute_result"
    }
   ],
   "source": [
    "stats.ttest_ind(data2021_55['unreinforced'], data2023_55['unreinforced'], axis=0)"
   ]
  },
  {
   "cell_type": "markdown",
   "id": "9dee3414",
   "metadata": {},
   "source": [
    "Is the difference in the mean between 2020 and 2022 for unreinforced concrete at a water ratio of 0.55 statistically significant?"
   ]
  },
  {
   "cell_type": "code",
   "execution_count": 66,
   "id": "83e266c4",
   "metadata": {},
   "outputs": [
    {
     "data": {
      "text/plain": [
       "Ttest_indResult(statistic=-1.1827757557655552, pvalue=0.24040128359715768)"
      ]
     },
     "execution_count": 66,
     "metadata": {},
     "output_type": "execute_result"
    }
   ],
   "source": [
    "stats.ttest_ind(data2020_55['unreinforced'], data2022_55['unreinforced'], axis=0)"
   ]
  },
  {
   "cell_type": "markdown",
   "id": "b30ce586",
   "metadata": {},
   "source": [
    "Is the difference in the mean between 2020 and 2023 for unreinforced concrete at a water ratio of 0.55 statistically significant?"
   ]
  },
  {
   "cell_type": "code",
   "execution_count": 67,
   "id": "003d6f2c",
   "metadata": {},
   "outputs": [
    {
     "data": {
      "text/plain": [
       "Ttest_indResult(statistic=-0.5578931435702279, pvalue=0.5783838024735231)"
      ]
     },
     "execution_count": 67,
     "metadata": {},
     "output_type": "execute_result"
    }
   ],
   "source": [
    "stats.ttest_ind(data2020_55['unreinforced'], data2023_55['unreinforced'], axis=0)"
   ]
  },
  {
   "cell_type": "markdown",
   "id": "ebed01ac",
   "metadata": {},
   "source": [
    "Water Ratio: 0.50\n",
    "\n",
    "Is the difference in the mean between 2020 and 2021 for unreinforced concrete at a water ratio of 0.55 statistically significant?"
   ]
  },
  {
   "cell_type": "code",
   "execution_count": 68,
   "id": "9c894b56",
   "metadata": {},
   "outputs": [
    {
     "data": {
      "text/plain": [
       "Ttest_indResult(statistic=-5.5478789652828135, pvalue=3.7223406867572385e-07)"
      ]
     },
     "execution_count": 68,
     "metadata": {},
     "output_type": "execute_result"
    }
   ],
   "source": [
    "stats.ttest_ind(data2020_50['unreinforced'], data2021_50['unreinforced'], axis=0)"
   ]
  },
  {
   "cell_type": "markdown",
   "id": "b4c4d4c4",
   "metadata": {},
   "source": [
    "### Compare means within the same year.\n",
    "\n",
    "Is the difference in mean between unreinforced concrete with a water ratio of 0.5 significantly different from the mean with a water ratio of 0.55 in the same year?"
   ]
  },
  {
   "cell_type": "code",
   "execution_count": 69,
   "id": "9682ad8d",
   "metadata": {},
   "outputs": [
    {
     "data": {
      "text/plain": [
       "Ttest_indResult(statistic=1.584789717442967, pvalue=0.1164832948672539)"
      ]
     },
     "execution_count": 69,
     "metadata": {},
     "output_type": "execute_result"
    }
   ],
   "source": [
    "## 2023\n",
    "stats.ttest_ind(data2023_50['unreinforced'], data2023_55['unreinforced'], axis=0)"
   ]
  },
  {
   "cell_type": "code",
   "execution_count": 70,
   "id": "2bc147af",
   "metadata": {},
   "outputs": [
    {
     "data": {
      "text/plain": [
       "Ttest_indResult(statistic=2.1039928839602364, pvalue=0.039252120157151654)"
      ]
     },
     "execution_count": 70,
     "metadata": {},
     "output_type": "execute_result"
    }
   ],
   "source": [
    "## 2022\n",
    "stats.ttest_ind(data2022_50['unreinforced'], data2022_55['unreinforced'], axis=0)"
   ]
  },
  {
   "cell_type": "code",
   "execution_count": 71,
   "id": "e6d5e6df",
   "metadata": {},
   "outputs": [
    {
     "data": {
      "text/plain": [
       "Ttest_indResult(statistic=0.9214797611889503, pvalue=0.35937783030632064)"
      ]
     },
     "execution_count": 71,
     "metadata": {},
     "output_type": "execute_result"
    }
   ],
   "source": [
    "## 2021\n",
    "stats.ttest_ind(data2021_50['unreinforced'], data2021_55['unreinforced'], axis=0)"
   ]
  },
  {
   "cell_type": "code",
   "execution_count": 72,
   "id": "5ef2ec59",
   "metadata": {},
   "outputs": [
    {
     "data": {
      "text/plain": [
       "Ttest_indResult(statistic=-1.2641184378582377, pvalue=0.2101021923744449)"
      ]
     },
     "execution_count": 72,
     "metadata": {},
     "output_type": "execute_result"
    }
   ],
   "source": [
    "## 2020\n",
    "stats.ttest_ind(data2020_50['unreinforced'], data2020_55['unreinforced'], axis=0)"
   ]
  },
  {
   "cell_type": "code",
   "execution_count": null,
   "id": "a890ffa3",
   "metadata": {},
   "outputs": [],
   "source": []
  }
 ],
 "metadata": {
  "kernelspec": {
   "display_name": "Python 3 (ipykernel)",
   "language": "python",
   "name": "python3"
  },
  "language_info": {
   "codemirror_mode": {
    "name": "ipython",
    "version": 3
   },
   "file_extension": ".py",
   "mimetype": "text/x-python",
   "name": "python",
   "nbconvert_exporter": "python",
   "pygments_lexer": "ipython3",
   "version": "3.11.0"
  }
 },
 "nbformat": 4,
 "nbformat_minor": 5
}
