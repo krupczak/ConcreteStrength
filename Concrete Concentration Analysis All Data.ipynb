{
 "cells": [
  {
   "cell_type": "markdown",
   "id": "630461a6",
   "metadata": {},
   "source": [
    "## Concrete Analysis\n",
    "Hope College<br>\n",
    "Intro to Engineering<br>\n",
    "2020-2023 Labs<br>"
   ]
  },
  {
   "cell_type": "code",
   "execution_count": 1,
   "id": "76098ab8",
   "metadata": {},
   "outputs": [],
   "source": [
    "import pandas as pd\n",
    "import numpy as np\n",
    "import matplotlib.pyplot as plt\n",
    "from scipy import stats\n",
    "import re"
   ]
  },
  {
   "cell_type": "code",
   "execution_count": 2,
   "id": "26bb7ca7",
   "metadata": {},
   "outputs": [
    {
     "data": {
      "text/html": [
       "<div>\n",
       "<style scoped>\n",
       "    .dataframe tbody tr th:only-of-type {\n",
       "        vertical-align: middle;\n",
       "    }\n",
       "\n",
       "    .dataframe tbody tr th {\n",
       "        vertical-align: top;\n",
       "    }\n",
       "\n",
       "    .dataframe thead th {\n",
       "        text-align: right;\n",
       "    }\n",
       "</style>\n",
       "<table border=\"1\" class=\"dataframe\">\n",
       "  <thead>\n",
       "    <tr style=\"text-align: right;\">\n",
       "      <th></th>\n",
       "      <th>Timestamp</th>\n",
       "      <th>Date and approximate time tests were performed</th>\n",
       "      <th>Water to Cement Ratio</th>\n",
       "      <th>Maximum Load for Unreinforced Beam (lbf)</th>\n",
       "      <th>Maximum Load for Reinforced Beam (lbf)</th>\n",
       "    </tr>\n",
       "  </thead>\n",
       "  <tbody>\n",
       "    <tr>\n",
       "      <th>0</th>\n",
       "      <td>2020-08-25 20:05:14.162</td>\n",
       "      <td>2020-08-25 08:30:00</td>\n",
       "      <td>0.55</td>\n",
       "      <td>620.1272 lbf</td>\n",
       "      <td>2,059.9807 lbf</td>\n",
       "    </tr>\n",
       "    <tr>\n",
       "      <th>1</th>\n",
       "      <td>2020-08-25 21:20:12.812</td>\n",
       "      <td>2020-08-25 16:30:00</td>\n",
       "      <td>Tuesdays lab (0.50 ratio)</td>\n",
       "      <td>436.48571lbf</td>\n",
       "      <td>2184.34074lbf</td>\n",
       "    </tr>\n",
       "    <tr>\n",
       "      <th>2</th>\n",
       "      <td>2020-08-26 21:25:19.644</td>\n",
       "      <td>2020-08-25 15:14:00</td>\n",
       "      <td>0.5</td>\n",
       "      <td>458.85 lbf</td>\n",
       "      <td>610.12 lbf</td>\n",
       "    </tr>\n",
       "    <tr>\n",
       "      <th>3</th>\n",
       "      <td>2020-08-27 12:05:53.101</td>\n",
       "      <td>2020-08-25 12:00:00</td>\n",
       "      <td>0.5</td>\n",
       "      <td>443.82</td>\n",
       "      <td>1540.28</td>\n",
       "    </tr>\n",
       "    <tr>\n",
       "      <th>4</th>\n",
       "      <td>2020-08-27 13:02:48.533</td>\n",
       "      <td>2020-08-25 17:30:00</td>\n",
       "      <td>0.5</td>\n",
       "      <td>597.02</td>\n",
       "      <td>1680.72</td>\n",
       "    </tr>\n",
       "  </tbody>\n",
       "</table>\n",
       "</div>"
      ],
      "text/plain": [
       "                Timestamp Date and approximate time tests were performed  \\\n",
       "0 2020-08-25 20:05:14.162                            2020-08-25 08:30:00   \n",
       "1 2020-08-25 21:20:12.812                            2020-08-25 16:30:00   \n",
       "2 2020-08-26 21:25:19.644                            2020-08-25 15:14:00   \n",
       "3 2020-08-27 12:05:53.101                            2020-08-25 12:00:00   \n",
       "4 2020-08-27 13:02:48.533                            2020-08-25 17:30:00   \n",
       "\n",
       "       Water to Cement Ratio Maximum Load for Unreinforced Beam (lbf)  \\\n",
       "0                       0.55                             620.1272 lbf   \n",
       "1  Tuesdays lab (0.50 ratio)                             436.48571lbf   \n",
       "2                        0.5                               458.85 lbf   \n",
       "3                        0.5                                   443.82   \n",
       "4                        0.5                                   597.02   \n",
       "\n",
       "  Maximum Load for Reinforced Beam (lbf)  \n",
       "0                         2,059.9807 lbf  \n",
       "1                          2184.34074lbf  \n",
       "2                             610.12 lbf  \n",
       "3                                1540.28  \n",
       "4                                1680.72  "
      ]
     },
     "execution_count": 2,
     "metadata": {},
     "output_type": "execute_result"
    }
   ],
   "source": [
    "data = pd.read_excel('Concrete Beam Testing Results_Anonymous.xlsx')\n",
    "data.drop(labels=0, axis='index', inplace=True)\n",
    "data.reset_index(inplace=True, drop=True)\n",
    "data.head()"
   ]
  },
  {
   "cell_type": "markdown",
   "id": "432d6d25",
   "metadata": {},
   "source": [
    "#### Data Cleaning\n"
   ]
  },
  {
   "cell_type": "markdown",
   "id": "4dd88e5c",
   "metadata": {},
   "source": [
    "Cleaning up data and removing outliers due to human error. The data was inputted by hand so errors are possible. "
   ]
  },
  {
   "cell_type": "code",
   "execution_count": 3,
   "id": "db9b7410",
   "metadata": {},
   "outputs": [
    {
     "data": {
      "text/html": [
       "<div>\n",
       "<style scoped>\n",
       "    .dataframe tbody tr th:only-of-type {\n",
       "        vertical-align: middle;\n",
       "    }\n",
       "\n",
       "    .dataframe tbody tr th {\n",
       "        vertical-align: top;\n",
       "    }\n",
       "\n",
       "    .dataframe thead th {\n",
       "        text-align: right;\n",
       "    }\n",
       "</style>\n",
       "<table border=\"1\" class=\"dataframe\">\n",
       "  <thead>\n",
       "    <tr style=\"text-align: right;\">\n",
       "      <th></th>\n",
       "      <th>timestamp</th>\n",
       "      <th>testtime</th>\n",
       "      <th>wc_ratio</th>\n",
       "      <th>unreinforced</th>\n",
       "      <th>reinforced</th>\n",
       "    </tr>\n",
       "  </thead>\n",
       "  <tbody>\n",
       "    <tr>\n",
       "      <th>0</th>\n",
       "      <td>2020-08-25 20:05:14.162</td>\n",
       "      <td>2020-08-25 08:30:00</td>\n",
       "      <td>0.55</td>\n",
       "      <td>620.1272 lbf</td>\n",
       "      <td>2,059.9807 lbf</td>\n",
       "    </tr>\n",
       "    <tr>\n",
       "      <th>1</th>\n",
       "      <td>2020-08-25 21:20:12.812</td>\n",
       "      <td>2020-08-25 16:30:00</td>\n",
       "      <td>Tuesdays lab (0.50 ratio)</td>\n",
       "      <td>436.48571lbf</td>\n",
       "      <td>2184.34074lbf</td>\n",
       "    </tr>\n",
       "    <tr>\n",
       "      <th>2</th>\n",
       "      <td>2020-08-26 21:25:19.644</td>\n",
       "      <td>2020-08-25 15:14:00</td>\n",
       "      <td>0.5</td>\n",
       "      <td>458.85 lbf</td>\n",
       "      <td>610.12 lbf</td>\n",
       "    </tr>\n",
       "    <tr>\n",
       "      <th>3</th>\n",
       "      <td>2020-08-27 12:05:53.101</td>\n",
       "      <td>2020-08-25 12:00:00</td>\n",
       "      <td>0.5</td>\n",
       "      <td>443.82</td>\n",
       "      <td>1540.28</td>\n",
       "    </tr>\n",
       "    <tr>\n",
       "      <th>4</th>\n",
       "      <td>2020-08-27 13:02:48.533</td>\n",
       "      <td>2020-08-25 17:30:00</td>\n",
       "      <td>0.5</td>\n",
       "      <td>597.02</td>\n",
       "      <td>1680.72</td>\n",
       "    </tr>\n",
       "  </tbody>\n",
       "</table>\n",
       "</div>"
      ],
      "text/plain": [
       "                timestamp             testtime                   wc_ratio  \\\n",
       "0 2020-08-25 20:05:14.162  2020-08-25 08:30:00                       0.55   \n",
       "1 2020-08-25 21:20:12.812  2020-08-25 16:30:00  Tuesdays lab (0.50 ratio)   \n",
       "2 2020-08-26 21:25:19.644  2020-08-25 15:14:00                        0.5   \n",
       "3 2020-08-27 12:05:53.101  2020-08-25 12:00:00                        0.5   \n",
       "4 2020-08-27 13:02:48.533  2020-08-25 17:30:00                        0.5   \n",
       "\n",
       "   unreinforced      reinforced  \n",
       "0  620.1272 lbf  2,059.9807 lbf  \n",
       "1  436.48571lbf   2184.34074lbf  \n",
       "2    458.85 lbf      610.12 lbf  \n",
       "3        443.82         1540.28  \n",
       "4        597.02         1680.72  "
      ]
     },
     "execution_count": 3,
     "metadata": {},
     "output_type": "execute_result"
    }
   ],
   "source": [
    "## Rename cols\n",
    "data.columns = ['timestamp', 'testtime', 'wc_ratio', 'unreinforced', 'reinforced']\n",
    "data.head()"
   ]
  },
  {
   "cell_type": "code",
   "execution_count": 4,
   "id": "a75c05d4",
   "metadata": {},
   "outputs": [
    {
     "data": {
      "text/html": [
       "<div>\n",
       "<style scoped>\n",
       "    .dataframe tbody tr th:only-of-type {\n",
       "        vertical-align: middle;\n",
       "    }\n",
       "\n",
       "    .dataframe tbody tr th {\n",
       "        vertical-align: top;\n",
       "    }\n",
       "\n",
       "    .dataframe thead th {\n",
       "        text-align: right;\n",
       "    }\n",
       "</style>\n",
       "<table border=\"1\" class=\"dataframe\">\n",
       "  <thead>\n",
       "    <tr style=\"text-align: right;\">\n",
       "      <th></th>\n",
       "      <th>timestamp</th>\n",
       "      <th>testtime</th>\n",
       "      <th>wc_ratio</th>\n",
       "      <th>unreinforced</th>\n",
       "      <th>reinforced</th>\n",
       "    </tr>\n",
       "  </thead>\n",
       "  <tbody>\n",
       "    <tr>\n",
       "      <th>0</th>\n",
       "      <td>2020-08-25 20:05:14.162</td>\n",
       "      <td>2020-08-25 08:30:00</td>\n",
       "      <td>0.55</td>\n",
       "      <td>620.12720</td>\n",
       "      <td>2059.98070</td>\n",
       "    </tr>\n",
       "    <tr>\n",
       "      <th>1</th>\n",
       "      <td>2020-08-25 21:20:12.812</td>\n",
       "      <td>2020-08-25 16:30:00</td>\n",
       "      <td>0.50</td>\n",
       "      <td>436.48571</td>\n",
       "      <td>2184.34074</td>\n",
       "    </tr>\n",
       "    <tr>\n",
       "      <th>2</th>\n",
       "      <td>2020-08-26 21:25:19.644</td>\n",
       "      <td>2020-08-25 15:14:00</td>\n",
       "      <td>0.50</td>\n",
       "      <td>458.85000</td>\n",
       "      <td>610.12000</td>\n",
       "    </tr>\n",
       "    <tr>\n",
       "      <th>3</th>\n",
       "      <td>2020-08-27 12:05:53.101</td>\n",
       "      <td>2020-08-25 12:00:00</td>\n",
       "      <td>0.50</td>\n",
       "      <td>443.82000</td>\n",
       "      <td>1540.28000</td>\n",
       "    </tr>\n",
       "    <tr>\n",
       "      <th>4</th>\n",
       "      <td>2020-08-27 13:02:48.533</td>\n",
       "      <td>2020-08-25 17:30:00</td>\n",
       "      <td>0.50</td>\n",
       "      <td>597.02000</td>\n",
       "      <td>1680.72000</td>\n",
       "    </tr>\n",
       "    <tr>\n",
       "      <th>...</th>\n",
       "      <td>...</td>\n",
       "      <td>...</td>\n",
       "      <td>...</td>\n",
       "      <td>...</td>\n",
       "      <td>...</td>\n",
       "    </tr>\n",
       "    <tr>\n",
       "      <th>320</th>\n",
       "      <td>2023-10-05 13:08:38.428</td>\n",
       "      <td>2023-09-28 16:30:00</td>\n",
       "      <td>0.55</td>\n",
       "      <td>614.00000</td>\n",
       "      <td>1718.50000</td>\n",
       "    </tr>\n",
       "    <tr>\n",
       "      <th>321</th>\n",
       "      <td>2023-10-05 13:45:43.346</td>\n",
       "      <td>2023-09-28 16:30:00</td>\n",
       "      <td>0.55</td>\n",
       "      <td>452.82050</td>\n",
       "      <td>1910.07300</td>\n",
       "    </tr>\n",
       "    <tr>\n",
       "      <th>322</th>\n",
       "      <td>2023-10-05 14:05:48.096</td>\n",
       "      <td>2023-09-28 16:50:00</td>\n",
       "      <td>0.55</td>\n",
       "      <td>625.32570</td>\n",
       "      <td>2480.58600</td>\n",
       "    </tr>\n",
       "    <tr>\n",
       "      <th>323</th>\n",
       "      <td>2023-10-05 16:39:52.324</td>\n",
       "      <td>2023-09-28 12:45:00</td>\n",
       "      <td>0.55</td>\n",
       "      <td>471.49750</td>\n",
       "      <td>1694.77400</td>\n",
       "    </tr>\n",
       "    <tr>\n",
       "      <th>324</th>\n",
       "      <td>2023-10-12 14:29:02.349</td>\n",
       "      <td>2023-09-21 16:50:00</td>\n",
       "      <td>0.55</td>\n",
       "      <td>536.27540</td>\n",
       "      <td>1723.84300</td>\n",
       "    </tr>\n",
       "  </tbody>\n",
       "</table>\n",
       "<p>325 rows × 5 columns</p>\n",
       "</div>"
      ],
      "text/plain": [
       "                  timestamp             testtime  wc_ratio  unreinforced  \\\n",
       "0   2020-08-25 20:05:14.162  2020-08-25 08:30:00      0.55     620.12720   \n",
       "1   2020-08-25 21:20:12.812  2020-08-25 16:30:00      0.50     436.48571   \n",
       "2   2020-08-26 21:25:19.644  2020-08-25 15:14:00      0.50     458.85000   \n",
       "3   2020-08-27 12:05:53.101  2020-08-25 12:00:00      0.50     443.82000   \n",
       "4   2020-08-27 13:02:48.533  2020-08-25 17:30:00      0.50     597.02000   \n",
       "..                      ...                  ...       ...           ...   \n",
       "320 2023-10-05 13:08:38.428  2023-09-28 16:30:00      0.55     614.00000   \n",
       "321 2023-10-05 13:45:43.346  2023-09-28 16:30:00      0.55     452.82050   \n",
       "322 2023-10-05 14:05:48.096  2023-09-28 16:50:00      0.55     625.32570   \n",
       "323 2023-10-05 16:39:52.324  2023-09-28 12:45:00      0.55     471.49750   \n",
       "324 2023-10-12 14:29:02.349  2023-09-21 16:50:00      0.55     536.27540   \n",
       "\n",
       "     reinforced  \n",
       "0    2059.98070  \n",
       "1    2184.34074  \n",
       "2     610.12000  \n",
       "3    1540.28000  \n",
       "4    1680.72000  \n",
       "..          ...  \n",
       "320  1718.50000  \n",
       "321  1910.07300  \n",
       "322  2480.58600  \n",
       "323  1694.77400  \n",
       "324  1723.84300  \n",
       "\n",
       "[325 rows x 5 columns]"
      ]
     },
     "execution_count": 4,
     "metadata": {},
     "output_type": "execute_result"
    }
   ],
   "source": [
    "## Standardize wc_ratio column to only be 0.5 or 0.55\n",
    "data['wc_ratio'] = [0.55 if \"Thursday\" in str(val) or \"55\" in str(val) else 0.50 for val in data['wc_ratio']]\n",
    "\n",
    "\n",
    "## Delete any rows with negative values\n",
    "data.reset_index(inplace=True, drop=True)\n",
    "data['reinforced'] = data['reinforced'].astype(str)\n",
    "data = data[data['reinforced'].str.contains('-')==False]\n",
    "\n",
    "data.reset_index(inplace=True, drop=True)\n",
    "data['unreinforced'] = data['unreinforced'].astype(str)\n",
    "data = data[data['unreinforced'].str.contains('-')==False]\n",
    "\n",
    "\n",
    "## Strip \"lbf\" and other non-numeric characters from cols\n",
    "data.reset_index(inplace=True, drop=True)\n",
    "non_decimal = re.compile(r'[^\\d.]+')\n",
    "data['reinforced'] = pd.Series([non_decimal.sub(\"\", figure) for figure in data['reinforced'].astype(str)])\n",
    "data['unreinforced'] = pd.Series([non_decimal.sub(\"\", figure) for figure in data['unreinforced'].astype(str)])\n",
    "\n",
    "## Convert empty cells to None and convert column type to float.\n",
    "data['reinforced'] = np.array([None if val == '' else val for val in data['reinforced']]).astype(float)\n",
    "data['unreinforced'] = np.array([None if val == '' else val for val in data['unreinforced']]).astype(float)\n",
    "\n",
    "## Machine cannot apply more than 6,000lbf of pressure, so strip any data points that contain values that exceed that\n",
    "## because they are due to human error.\n",
    "## Physically impossible for unreinforced concrete to withstand greater than 1,000 lbf of pressure.\n",
    "data = data[data['unreinforced'] < 1000] \n",
    "data = data[data['reinforced'] < 6000]\n",
    "data.reset_index(inplace=True, drop=True)\n",
    "\n",
    "\n",
    "data"
   ]
  },
  {
   "cell_type": "markdown",
   "id": "fb45eda8",
   "metadata": {},
   "source": [
    "### Data Analysis"
   ]
  },
  {
   "cell_type": "markdown",
   "id": "3fb3360d",
   "metadata": {},
   "source": [
    "Splitting the data by water to cement ratio."
   ]
  },
  {
   "cell_type": "code",
   "execution_count": 5,
   "id": "685a90ac",
   "metadata": {},
   "outputs": [],
   "source": [
    "data50 = data[data['wc_ratio']==0.50]\n",
    "data55 = data[data['wc_ratio']==0.55]"
   ]
  },
  {
   "cell_type": "code",
   "execution_count": 6,
   "id": "123a0571",
   "metadata": {},
   "outputs": [
    {
     "data": {
      "text/html": [
       "<div>\n",
       "<style scoped>\n",
       "    .dataframe tbody tr th:only-of-type {\n",
       "        vertical-align: middle;\n",
       "    }\n",
       "\n",
       "    .dataframe tbody tr th {\n",
       "        vertical-align: top;\n",
       "    }\n",
       "\n",
       "    .dataframe thead th {\n",
       "        text-align: right;\n",
       "    }\n",
       "</style>\n",
       "<table border=\"1\" class=\"dataframe\">\n",
       "  <thead>\n",
       "    <tr style=\"text-align: right;\">\n",
       "      <th></th>\n",
       "      <th>wc_ratio</th>\n",
       "      <th>unreinforced</th>\n",
       "      <th>reinforced</th>\n",
       "    </tr>\n",
       "  </thead>\n",
       "  <tbody>\n",
       "    <tr>\n",
       "      <th>count</th>\n",
       "      <td>156.0</td>\n",
       "      <td>156.000000</td>\n",
       "      <td>156.000000</td>\n",
       "    </tr>\n",
       "    <tr>\n",
       "      <th>mean</th>\n",
       "      <td>0.5</td>\n",
       "      <td>540.614650</td>\n",
       "      <td>2102.137731</td>\n",
       "    </tr>\n",
       "    <tr>\n",
       "      <th>std</th>\n",
       "      <td>0.0</td>\n",
       "      <td>167.073453</td>\n",
       "      <td>604.373879</td>\n",
       "    </tr>\n",
       "    <tr>\n",
       "      <th>min</th>\n",
       "      <td>0.5</td>\n",
       "      <td>0.111710</td>\n",
       "      <td>339.019450</td>\n",
       "    </tr>\n",
       "    <tr>\n",
       "      <th>25%</th>\n",
       "      <td>0.5</td>\n",
       "      <td>460.089600</td>\n",
       "      <td>1724.963638</td>\n",
       "    </tr>\n",
       "    <tr>\n",
       "      <th>50%</th>\n",
       "      <td>0.5</td>\n",
       "      <td>565.545615</td>\n",
       "      <td>2084.486600</td>\n",
       "    </tr>\n",
       "    <tr>\n",
       "      <th>75%</th>\n",
       "      <td>0.5</td>\n",
       "      <td>649.439575</td>\n",
       "      <td>2421.421467</td>\n",
       "    </tr>\n",
       "    <tr>\n",
       "      <th>max</th>\n",
       "      <td>0.5</td>\n",
       "      <td>952.140030</td>\n",
       "      <td>4149.528000</td>\n",
       "    </tr>\n",
       "  </tbody>\n",
       "</table>\n",
       "</div>"
      ],
      "text/plain": [
       "       wc_ratio  unreinforced   reinforced\n",
       "count     156.0    156.000000   156.000000\n",
       "mean        0.5    540.614650  2102.137731\n",
       "std         0.0    167.073453   604.373879\n",
       "min         0.5      0.111710   339.019450\n",
       "25%         0.5    460.089600  1724.963638\n",
       "50%         0.5    565.545615  2084.486600\n",
       "75%         0.5    649.439575  2421.421467\n",
       "max         0.5    952.140030  4149.528000"
      ]
     },
     "execution_count": 6,
     "metadata": {},
     "output_type": "execute_result"
    }
   ],
   "source": [
    "data50.describe()"
   ]
  },
  {
   "cell_type": "code",
   "execution_count": 7,
   "id": "b1138676",
   "metadata": {},
   "outputs": [
    {
     "data": {
      "text/html": [
       "<div>\n",
       "<style scoped>\n",
       "    .dataframe tbody tr th:only-of-type {\n",
       "        vertical-align: middle;\n",
       "    }\n",
       "\n",
       "    .dataframe tbody tr th {\n",
       "        vertical-align: top;\n",
       "    }\n",
       "\n",
       "    .dataframe thead th {\n",
       "        text-align: right;\n",
       "    }\n",
       "</style>\n",
       "<table border=\"1\" class=\"dataframe\">\n",
       "  <thead>\n",
       "    <tr style=\"text-align: right;\">\n",
       "      <th></th>\n",
       "      <th>wc_ratio</th>\n",
       "      <th>unreinforced</th>\n",
       "      <th>reinforced</th>\n",
       "    </tr>\n",
       "  </thead>\n",
       "  <tbody>\n",
       "    <tr>\n",
       "      <th>count</th>\n",
       "      <td>1.690000e+02</td>\n",
       "      <td>169.000000</td>\n",
       "      <td>169.000000</td>\n",
       "    </tr>\n",
       "    <tr>\n",
       "      <th>mean</th>\n",
       "      <td>5.500000e-01</td>\n",
       "      <td>503.784213</td>\n",
       "      <td>1909.857108</td>\n",
       "    </tr>\n",
       "    <tr>\n",
       "      <th>std</th>\n",
       "      <td>1.113522e-16</td>\n",
       "      <td>159.219079</td>\n",
       "      <td>564.875316</td>\n",
       "    </tr>\n",
       "    <tr>\n",
       "      <th>min</th>\n",
       "      <td>5.500000e-01</td>\n",
       "      <td>1.000000</td>\n",
       "      <td>128.440920</td>\n",
       "    </tr>\n",
       "    <tr>\n",
       "      <th>25%</th>\n",
       "      <td>5.500000e-01</td>\n",
       "      <td>422.475830</td>\n",
       "      <td>1655.000000</td>\n",
       "    </tr>\n",
       "    <tr>\n",
       "      <th>50%</th>\n",
       "      <td>5.500000e-01</td>\n",
       "      <td>488.950000</td>\n",
       "      <td>1896.108000</td>\n",
       "    </tr>\n",
       "    <tr>\n",
       "      <th>75%</th>\n",
       "      <td>5.500000e-01</td>\n",
       "      <td>597.065220</td>\n",
       "      <td>2229.990580</td>\n",
       "    </tr>\n",
       "    <tr>\n",
       "      <th>max</th>\n",
       "      <td>5.500000e-01</td>\n",
       "      <td>880.000000</td>\n",
       "      <td>3179.486880</td>\n",
       "    </tr>\n",
       "  </tbody>\n",
       "</table>\n",
       "</div>"
      ],
      "text/plain": [
       "           wc_ratio  unreinforced   reinforced\n",
       "count  1.690000e+02    169.000000   169.000000\n",
       "mean   5.500000e-01    503.784213  1909.857108\n",
       "std    1.113522e-16    159.219079   564.875316\n",
       "min    5.500000e-01      1.000000   128.440920\n",
       "25%    5.500000e-01    422.475830  1655.000000\n",
       "50%    5.500000e-01    488.950000  1896.108000\n",
       "75%    5.500000e-01    597.065220  2229.990580\n",
       "max    5.500000e-01    880.000000  3179.486880"
      ]
     },
     "execution_count": 7,
     "metadata": {},
     "output_type": "execute_result"
    }
   ],
   "source": [
    "data55.describe()"
   ]
  },
  {
   "cell_type": "code",
   "execution_count": 8,
   "id": "5e9c4a70",
   "metadata": {},
   "outputs": [
    {
     "data": {
      "text/plain": [
       "Text(0.5, 1.0, 'Overview of Concrete Formulations and Reinforcement')"
      ]
     },
     "execution_count": 8,
     "metadata": {},
     "output_type": "execute_result"
    },
    {
     "data": {
      "image/png": "[encoded data removed]",
      "text/plain": [
       "<Figure size 1000x500 with 1 Axes>"
      ]
     },
     "metadata": {},
     "output_type": "display_data"
    }
   ],
   "source": [
    "fig = plt.figure(figsize = (10, 5))\n",
    "ax = fig.add_subplot(111)\n",
    "\n",
    "vals = {'UnReinforced 0.55': data55['unreinforced'], 'UnReinforced 0.50': data50['unreinforced'], 'Reinforced 0.55': data55['reinforced'], 'Reinforced 0.50': data50['reinforced']}\n",
    "ax.boxplot(vals.values(),patch_artist=True,\n",
    "            boxprops=dict(facecolor='lightblue', color='black'),\n",
    "            capprops=dict(color='black'),\n",
    "            whiskerprops=dict(color='black'),\n",
    "            flierprops=dict(markeredgecolor='black'),\n",
    "            medianprops=dict(color='black', linewidth=2),)\n",
    "ax.set_facecolor('aliceblue')\n",
    "ax.set_xticklabels(vals.keys())\n",
    "ax.set_ylabel('Breaking Strength (lbf)', size = 13)\n",
    "ax.set_xlabel('Type', size = 13)\n",
    "ax.set_title('Overview of Concrete Formulations and Reinforcement')"
   ]
  },
  {
   "cell_type": "code",
   "execution_count": 9,
   "id": "98524972",
   "metadata": {},
   "outputs": [
    {
     "data": {
      "text/plain": [
       "Text(0.5, 1.0, 'Overview of Reinforced Concrete Formulations')"
      ]
     },
     "execution_count": 9,
     "metadata": {},
     "output_type": "execute_result"
    },
    {
     "data": {
      "image/png": "[encoded data removed]",
      "text/plain": [
       "<Figure size 1000x500 with 1 Axes>"
      ]
     },
     "metadata": {},
     "output_type": "display_data"
    }
   ],
   "source": [
    "fig = plt.figure(figsize = (10, 5))\n",
    "ax = fig.add_subplot(111)\n",
    "\n",
    "vals = {'Reinforced 0.55': data55['reinforced'], 'Reinforced 0.50': data50['reinforced']}\n",
    "ax.boxplot(vals.values(),patch_artist=True,\n",
    "            boxprops=dict(facecolor='lightblue', color='black'),\n",
    "            capprops=dict(color='black'),\n",
    "            whiskerprops=dict(color='black'),\n",
    "            flierprops=dict(markeredgecolor='black'),\n",
    "            medianprops=dict(color='black', linewidth=2),)\n",
    "ax.set_facecolor('aliceblue')\n",
    "ax.set_xticklabels(vals.keys())\n",
    "ax.set_ylabel('Breaking Strength (lbf)', size = 13)\n",
    "ax.set_xlabel('Type', size = 13)\n",
    "ax.set_title('Overview of Reinforced Concrete Formulations')"
   ]
  },
  {
   "cell_type": "code",
   "execution_count": 10,
   "id": "d7f01150",
   "metadata": {},
   "outputs": [
    {
     "data": {
      "text/plain": [
       "Text(0.5, 1.0, 'Overview of Unreinforced Concrete Formulations')"
      ]
     },
     "execution_count": 10,
     "metadata": {},
     "output_type": "execute_result"
    },
    {
     "data": {
      "image/png": "[encoded data removed]",
      "text/plain": [
       "<Figure size 1000x500 with 1 Axes>"
      ]
     },
     "metadata": {},
     "output_type": "display_data"
    }
   ],
   "source": [
    "fig = plt.figure(figsize = (10, 5))\n",
    "ax = fig.add_subplot(111)\n",
    "\n",
    "vals = {'Unreinforced 0.55': data55['unreinforced'], 'Unreinforced 0.50': data50['unreinforced']}\n",
    "ax.boxplot(vals.values(),patch_artist=True,\n",
    "            boxprops=dict(facecolor='lightblue', color='black'),\n",
    "            capprops=dict(color='black'),\n",
    "            whiskerprops=dict(color='black'),\n",
    "            flierprops=dict(markeredgecolor='black'),\n",
    "            medianprops=dict(color='black', linewidth=2),)\n",
    "ax.set_facecolor('aliceblue')\n",
    "ax.set_xticklabels(vals.keys())\n",
    "ax.set_ylabel('Breaking Strength (lbf)', size = 13)\n",
    "ax.set_xlabel('Type', size = 13)\n",
    "ax.set_title('Overview of Unreinforced Concrete Formulations')"
   ]
  },
  {
   "cell_type": "markdown",
   "id": "9f22324d",
   "metadata": {},
   "source": [
    "p-test comparison based on water to cement ratio. Is the difference in mean between each group statistically significant?\n",
    "\n",
    "Null Hypothesis: The means are statistically the same. <br>\n",
    "Alternative hypothesis. The means are statistically different."
   ]
  },
  {
   "cell_type": "code",
   "execution_count": 11,
   "id": "aa6e5a96",
   "metadata": {},
   "outputs": [
    {
     "data": {
      "text/plain": [
       "Ttest_indResult(statistic=2.9645948555978228, pvalue=0.00325629620510519)"
      ]
     },
     "execution_count": 11,
     "metadata": {},
     "output_type": "execute_result"
    }
   ],
   "source": [
    "## Reinforced\n",
    "stats.ttest_ind(data50['reinforced'], data55['reinforced'], axis=0)"
   ]
  },
  {
   "cell_type": "code",
   "execution_count": 12,
   "id": "e09bf669",
   "metadata": {
    "scrolled": true
   },
   "outputs": [
    {
     "data": {
      "text/plain": [
       "Ttest_indResult(statistic=2.034645895460831, pvalue=0.042702936594808526)"
      ]
     },
     "execution_count": 12,
     "metadata": {},
     "output_type": "execute_result"
    }
   ],
   "source": [
    "## Unreinforced\n",
    "stats.ttest_ind(data50['unreinforced'], data55['unreinforced'], axis=0)"
   ]
  },
  {
   "cell_type": "markdown",
   "id": "2ca0749d",
   "metadata": {},
   "source": [
    "The difference between the means in both cases is statistically significant.\n",
    "\n",
    "Reinforced: <br>\n",
    "p <0.005 <br>\n",
    "There is less than a 0.5% chance that the difference in the means is due to random variation.\n",
    "\n",
    "Unreinforced: <br>\n",
    "p < 0.05<br>\n",
    "There is less than a 5% chance that the difference in the means is due to random variation."
   ]
  },
  {
   "cell_type": "markdown",
   "id": "0b0f45a8",
   "metadata": {},
   "source": [
    "### Comparing Data Between Years"
   ]
  },
  {
   "cell_type": "code",
   "execution_count": 13,
   "id": "db9a6e4f",
   "metadata": {},
   "outputs": [],
   "source": [
    "data2020 = data[data['timestamp'].dt.year == 2020]\n",
    "data2021 = data[data['timestamp'].dt.year == 2021]\n",
    "data2022 = data[data['timestamp'].dt.year == 2022]\n",
    "data2023 = data[data['timestamp'].dt.year == 2023]"
   ]
  },
  {
   "cell_type": "code",
   "execution_count": 14,
   "id": "dc895b97",
   "metadata": {},
   "outputs": [],
   "source": [
    "data2020_50 = data2020[data2020['wc_ratio']==0.50]\n",
    "data2020_55 = data2020[data2020['wc_ratio']==0.55]\n",
    "\n",
    "data2021_50 = data2021[data2021['wc_ratio']==0.50]\n",
    "data2021_55 = data2021[data2021['wc_ratio']==0.55]\n",
    "\n",
    "data2022_50 = data2022[data2022['wc_ratio']==0.50]\n",
    "data2022_55 = data2022[data2022['wc_ratio']==0.55]\n",
    "\n",
    "data2023_50 = data2023[data2023['wc_ratio']==0.50]\n",
    "data2023_55 = data2023[data2023['wc_ratio']==0.55]"
   ]
  },
  {
   "cell_type": "markdown",
   "id": "35c5991c",
   "metadata": {},
   "source": [
    "#### 0.50 Water to Concrete Ratio"
   ]
  },
  {
   "cell_type": "code",
   "execution_count": 15,
   "id": "7a8c19fb",
   "metadata": {},
   "outputs": [
    {
     "data": {
      "text/html": [
       "<div>\n",
       "<style scoped>\n",
       "    .dataframe tbody tr th:only-of-type {\n",
       "        vertical-align: middle;\n",
       "    }\n",
       "\n",
       "    .dataframe tbody tr th {\n",
       "        vertical-align: top;\n",
       "    }\n",
       "\n",
       "    .dataframe thead th {\n",
       "        text-align: right;\n",
       "    }\n",
       "</style>\n",
       "<table border=\"1\" class=\"dataframe\">\n",
       "  <thead>\n",
       "    <tr style=\"text-align: right;\">\n",
       "      <th></th>\n",
       "      <th>wc_ratio</th>\n",
       "      <th>unreinforced</th>\n",
       "      <th>reinforced</th>\n",
       "    </tr>\n",
       "  </thead>\n",
       "  <tbody>\n",
       "    <tr>\n",
       "      <th>count</th>\n",
       "      <td>35.0</td>\n",
       "      <td>35.000000</td>\n",
       "      <td>35.000000</td>\n",
       "    </tr>\n",
       "    <tr>\n",
       "      <th>mean</th>\n",
       "      <td>0.5</td>\n",
       "      <td>426.382193</td>\n",
       "      <td>1673.908211</td>\n",
       "    </tr>\n",
       "    <tr>\n",
       "      <th>std</th>\n",
       "      <td>0.0</td>\n",
       "      <td>154.823768</td>\n",
       "      <td>510.004385</td>\n",
       "    </tr>\n",
       "    <tr>\n",
       "      <th>min</th>\n",
       "      <td>0.5</td>\n",
       "      <td>0.111710</td>\n",
       "      <td>339.019450</td>\n",
       "    </tr>\n",
       "    <tr>\n",
       "      <th>25%</th>\n",
       "      <td>0.5</td>\n",
       "      <td>384.822000</td>\n",
       "      <td>1534.468500</td>\n",
       "    </tr>\n",
       "    <tr>\n",
       "      <th>50%</th>\n",
       "      <td>0.5</td>\n",
       "      <td>443.328120</td>\n",
       "      <td>1728.398850</td>\n",
       "    </tr>\n",
       "    <tr>\n",
       "      <th>75%</th>\n",
       "      <td>0.5</td>\n",
       "      <td>485.319250</td>\n",
       "      <td>2010.590470</td>\n",
       "    </tr>\n",
       "    <tr>\n",
       "      <th>max</th>\n",
       "      <td>0.5</td>\n",
       "      <td>711.399200</td>\n",
       "      <td>2399.889450</td>\n",
       "    </tr>\n",
       "  </tbody>\n",
       "</table>\n",
       "</div>"
      ],
      "text/plain": [
       "       wc_ratio  unreinforced   reinforced\n",
       "count      35.0     35.000000    35.000000\n",
       "mean        0.5    426.382193  1673.908211\n",
       "std         0.0    154.823768   510.004385\n",
       "min         0.5      0.111710   339.019450\n",
       "25%         0.5    384.822000  1534.468500\n",
       "50%         0.5    443.328120  1728.398850\n",
       "75%         0.5    485.319250  2010.590470\n",
       "max         0.5    711.399200  2399.889450"
      ]
     },
     "execution_count": 15,
     "metadata": {},
     "output_type": "execute_result"
    }
   ],
   "source": [
    "data2020_50.describe()"
   ]
  },
  {
   "cell_type": "code",
   "execution_count": 16,
   "id": "97162515",
   "metadata": {},
   "outputs": [
    {
     "data": {
      "text/html": [
       "<div>\n",
       "<style scoped>\n",
       "    .dataframe tbody tr th:only-of-type {\n",
       "        vertical-align: middle;\n",
       "    }\n",
       "\n",
       "    .dataframe tbody tr th {\n",
       "        vertical-align: top;\n",
       "    }\n",
       "\n",
       "    .dataframe thead th {\n",
       "        text-align: right;\n",
       "    }\n",
       "</style>\n",
       "<table border=\"1\" class=\"dataframe\">\n",
       "  <thead>\n",
       "    <tr style=\"text-align: right;\">\n",
       "      <th></th>\n",
       "      <th>wc_ratio</th>\n",
       "      <th>unreinforced</th>\n",
       "      <th>reinforced</th>\n",
       "    </tr>\n",
       "  </thead>\n",
       "  <tbody>\n",
       "    <tr>\n",
       "      <th>count</th>\n",
       "      <td>46.0</td>\n",
       "      <td>46.000000</td>\n",
       "      <td>46.000000</td>\n",
       "    </tr>\n",
       "    <tr>\n",
       "      <th>mean</th>\n",
       "      <td>0.5</td>\n",
       "      <td>605.112135</td>\n",
       "      <td>2280.418423</td>\n",
       "    </tr>\n",
       "    <tr>\n",
       "      <th>std</th>\n",
       "      <td>0.0</td>\n",
       "      <td>134.553585</td>\n",
       "      <td>466.753871</td>\n",
       "    </tr>\n",
       "    <tr>\n",
       "      <th>min</th>\n",
       "      <td>0.5</td>\n",
       "      <td>91.917280</td>\n",
       "      <td>869.089210</td>\n",
       "    </tr>\n",
       "    <tr>\n",
       "      <th>25%</th>\n",
       "      <td>0.5</td>\n",
       "      <td>525.604687</td>\n",
       "      <td>1988.232500</td>\n",
       "    </tr>\n",
       "    <tr>\n",
       "      <th>50%</th>\n",
       "      <td>0.5</td>\n",
       "      <td>603.039350</td>\n",
       "      <td>2253.825500</td>\n",
       "    </tr>\n",
       "    <tr>\n",
       "      <th>75%</th>\n",
       "      <td>0.5</td>\n",
       "      <td>681.312648</td>\n",
       "      <td>2606.223635</td>\n",
       "    </tr>\n",
       "    <tr>\n",
       "      <th>max</th>\n",
       "      <td>0.5</td>\n",
       "      <td>952.140030</td>\n",
       "      <td>3075.991000</td>\n",
       "    </tr>\n",
       "  </tbody>\n",
       "</table>\n",
       "</div>"
      ],
      "text/plain": [
       "       wc_ratio  unreinforced   reinforced\n",
       "count      46.0     46.000000    46.000000\n",
       "mean        0.5    605.112135  2280.418423\n",
       "std         0.0    134.553585   466.753871\n",
       "min         0.5     91.917280   869.089210\n",
       "25%         0.5    525.604687  1988.232500\n",
       "50%         0.5    603.039350  2253.825500\n",
       "75%         0.5    681.312648  2606.223635\n",
       "max         0.5    952.140030  3075.991000"
      ]
     },
     "execution_count": 16,
     "metadata": {},
     "output_type": "execute_result"
    }
   ],
   "source": [
    "data2021_50.describe()"
   ]
  },
  {
   "cell_type": "code",
   "execution_count": 17,
   "id": "f1805027",
   "metadata": {},
   "outputs": [
    {
     "data": {
      "text/html": [
       "<div>\n",
       "<style scoped>\n",
       "    .dataframe tbody tr th:only-of-type {\n",
       "        vertical-align: middle;\n",
       "    }\n",
       "\n",
       "    .dataframe tbody tr th {\n",
       "        vertical-align: top;\n",
       "    }\n",
       "\n",
       "    .dataframe thead th {\n",
       "        text-align: right;\n",
       "    }\n",
       "</style>\n",
       "<table border=\"1\" class=\"dataframe\">\n",
       "  <thead>\n",
       "    <tr style=\"text-align: right;\">\n",
       "      <th></th>\n",
       "      <th>wc_ratio</th>\n",
       "      <th>unreinforced</th>\n",
       "      <th>reinforced</th>\n",
       "    </tr>\n",
       "  </thead>\n",
       "  <tbody>\n",
       "    <tr>\n",
       "      <th>count</th>\n",
       "      <td>27.0</td>\n",
       "      <td>27.000000</td>\n",
       "      <td>27.000000</td>\n",
       "    </tr>\n",
       "    <tr>\n",
       "      <th>mean</th>\n",
       "      <td>0.5</td>\n",
       "      <td>588.767285</td>\n",
       "      <td>2181.182737</td>\n",
       "    </tr>\n",
       "    <tr>\n",
       "      <th>std</th>\n",
       "      <td>0.0</td>\n",
       "      <td>178.488465</td>\n",
       "      <td>548.915382</td>\n",
       "    </tr>\n",
       "    <tr>\n",
       "      <th>min</th>\n",
       "      <td>0.5</td>\n",
       "      <td>12.000000</td>\n",
       "      <td>865.961720</td>\n",
       "    </tr>\n",
       "    <tr>\n",
       "      <th>25%</th>\n",
       "      <td>0.5</td>\n",
       "      <td>559.890000</td>\n",
       "      <td>1851.530000</td>\n",
       "    </tr>\n",
       "    <tr>\n",
       "      <th>50%</th>\n",
       "      <td>0.5</td>\n",
       "      <td>604.247600</td>\n",
       "      <td>2286.000000</td>\n",
       "    </tr>\n",
       "    <tr>\n",
       "      <th>75%</th>\n",
       "      <td>0.5</td>\n",
       "      <td>655.495375</td>\n",
       "      <td>2475.000000</td>\n",
       "    </tr>\n",
       "    <tr>\n",
       "      <th>max</th>\n",
       "      <td>0.5</td>\n",
       "      <td>860.489310</td>\n",
       "      <td>3539.230000</td>\n",
       "    </tr>\n",
       "  </tbody>\n",
       "</table>\n",
       "</div>"
      ],
      "text/plain": [
       "       wc_ratio  unreinforced   reinforced\n",
       "count      27.0     27.000000    27.000000\n",
       "mean        0.5    588.767285  2181.182737\n",
       "std         0.0    178.488465   548.915382\n",
       "min         0.5     12.000000   865.961720\n",
       "25%         0.5    559.890000  1851.530000\n",
       "50%         0.5    604.247600  2286.000000\n",
       "75%         0.5    655.495375  2475.000000\n",
       "max         0.5    860.489310  3539.230000"
      ]
     },
     "execution_count": 17,
     "metadata": {},
     "output_type": "execute_result"
    }
   ],
   "source": [
    "data2022_50.describe()"
   ]
  },
  {
   "cell_type": "code",
   "execution_count": 18,
   "id": "f73500ba",
   "metadata": {},
   "outputs": [
    {
     "data": {
      "text/html": [
       "<div>\n",
       "<style scoped>\n",
       "    .dataframe tbody tr th:only-of-type {\n",
       "        vertical-align: middle;\n",
       "    }\n",
       "\n",
       "    .dataframe tbody tr th {\n",
       "        vertical-align: top;\n",
       "    }\n",
       "\n",
       "    .dataframe thead th {\n",
       "        text-align: right;\n",
       "    }\n",
       "</style>\n",
       "<table border=\"1\" class=\"dataframe\">\n",
       "  <thead>\n",
       "    <tr style=\"text-align: right;\">\n",
       "      <th></th>\n",
       "      <th>wc_ratio</th>\n",
       "      <th>unreinforced</th>\n",
       "      <th>reinforced</th>\n",
       "    </tr>\n",
       "  </thead>\n",
       "  <tbody>\n",
       "    <tr>\n",
       "      <th>count</th>\n",
       "      <td>48.0</td>\n",
       "      <td>48.000000</td>\n",
       "      <td>48.000000</td>\n",
       "    </tr>\n",
       "    <tr>\n",
       "      <th>mean</th>\n",
       "      <td>0.5</td>\n",
       "      <td>535.013203</td>\n",
       "      <td>2199.073277</td>\n",
       "    </tr>\n",
       "    <tr>\n",
       "      <th>std</th>\n",
       "      <td>0.0</td>\n",
       "      <td>156.857413</td>\n",
       "      <td>678.470867</td>\n",
       "    </tr>\n",
       "    <tr>\n",
       "      <th>min</th>\n",
       "      <td>0.5</td>\n",
       "      <td>28.550000</td>\n",
       "      <td>1145.625290</td>\n",
       "    </tr>\n",
       "    <tr>\n",
       "      <th>25%</th>\n",
       "      <td>0.5</td>\n",
       "      <td>460.965250</td>\n",
       "      <td>1686.404880</td>\n",
       "    </tr>\n",
       "    <tr>\n",
       "      <th>50%</th>\n",
       "      <td>0.5</td>\n",
       "      <td>558.341950</td>\n",
       "      <td>2132.264055</td>\n",
       "    </tr>\n",
       "    <tr>\n",
       "      <th>75%</th>\n",
       "      <td>0.5</td>\n",
       "      <td>657.790900</td>\n",
       "      <td>2440.487480</td>\n",
       "    </tr>\n",
       "    <tr>\n",
       "      <th>max</th>\n",
       "      <td>0.5</td>\n",
       "      <td>778.145900</td>\n",
       "      <td>4149.528000</td>\n",
       "    </tr>\n",
       "  </tbody>\n",
       "</table>\n",
       "</div>"
      ],
      "text/plain": [
       "       wc_ratio  unreinforced   reinforced\n",
       "count      48.0     48.000000    48.000000\n",
       "mean        0.5    535.013203  2199.073277\n",
       "std         0.0    156.857413   678.470867\n",
       "min         0.5     28.550000  1145.625290\n",
       "25%         0.5    460.965250  1686.404880\n",
       "50%         0.5    558.341950  2132.264055\n",
       "75%         0.5    657.790900  2440.487480\n",
       "max         0.5    778.145900  4149.528000"
      ]
     },
     "execution_count": 18,
     "metadata": {},
     "output_type": "execute_result"
    }
   ],
   "source": [
    "data2023_50.describe()"
   ]
  },
  {
   "cell_type": "code",
   "execution_count": 19,
   "id": "3c0c6300",
   "metadata": {},
   "outputs": [
    {
     "data": {
      "text/plain": [
       "Text(0.5, 1.0, 'Unreinforced Concrete with a Water Ratio of 0.50')"
      ]
     },
     "execution_count": 19,
     "metadata": {},
     "output_type": "execute_result"
    },
    {
     "data": {
      "image/png": "[encoded data removed]",
      "text/plain": [
       "<Figure size 1000x500 with 1 Axes>"
      ]
     },
     "metadata": {},
     "output_type": "display_data"
    }
   ],
   "source": [
    "fig = plt.figure(figsize = (10, 5))\n",
    "ax = fig.add_subplot(111)\n",
    "\n",
    "vals = {'2020': data2020_50['unreinforced'], '2021': data2021_50['unreinforced'], '2022': data2022_50['unreinforced'], '2023': data2023_50['unreinforced']}\n",
    "ax.boxplot(vals.values(),patch_artist=True,\n",
    "            boxprops=dict(facecolor='lightblue', color='black'),\n",
    "            capprops=dict(color='black'),\n",
    "            whiskerprops=dict(color='black'),\n",
    "            flierprops=dict(markeredgecolor='black'),\n",
    "            medianprops=dict(color='black', linewidth=2),)\n",
    "ax.set_facecolor('aliceblue')\n",
    "ax.set_xticklabels(vals.keys())\n",
    "ax.set_ylabel('Breaking Strength (lbf)', size = 13)\n",
    "ax.set_xlabel('Year', size = 13)\n",
    "ax.set_title('Unreinforced Concrete with a Water Ratio of 0.50')"
   ]
  },
  {
   "cell_type": "markdown",
   "id": "22d9f90c",
   "metadata": {},
   "source": [
    "Based off of the visualizations, the data from 2020 may be significantly different from the other years."
   ]
  },
  {
   "cell_type": "markdown",
   "id": "280ed31f",
   "metadata": {},
   "source": [
    "#### 0.55 Water to Concrete Ratio"
   ]
  },
  {
   "cell_type": "code",
   "execution_count": 20,
   "id": "06d1f832",
   "metadata": {},
   "outputs": [
    {
     "data": {
      "text/html": [
       "<div>\n",
       "<style scoped>\n",
       "    .dataframe tbody tr th:only-of-type {\n",
       "        vertical-align: middle;\n",
       "    }\n",
       "\n",
       "    .dataframe tbody tr th {\n",
       "        vertical-align: top;\n",
       "    }\n",
       "\n",
       "    .dataframe thead th {\n",
       "        text-align: right;\n",
       "    }\n",
       "</style>\n",
       "<table border=\"1\" class=\"dataframe\">\n",
       "  <thead>\n",
       "    <tr style=\"text-align: right;\">\n",
       "      <th></th>\n",
       "      <th>wc_ratio</th>\n",
       "      <th>unreinforced</th>\n",
       "      <th>reinforced</th>\n",
       "    </tr>\n",
       "  </thead>\n",
       "  <tbody>\n",
       "    <tr>\n",
       "      <th>count</th>\n",
       "      <td>42.00</td>\n",
       "      <td>42.000000</td>\n",
       "      <td>42.000000</td>\n",
       "    </tr>\n",
       "    <tr>\n",
       "      <th>mean</th>\n",
       "      <td>0.55</td>\n",
       "      <td>462.574621</td>\n",
       "      <td>1773.740019</td>\n",
       "    </tr>\n",
       "    <tr>\n",
       "      <th>std</th>\n",
       "      <td>0.00</td>\n",
       "      <td>93.532472</td>\n",
       "      <td>300.367404</td>\n",
       "    </tr>\n",
       "    <tr>\n",
       "      <th>min</th>\n",
       "      <td>0.55</td>\n",
       "      <td>324.778600</td>\n",
       "      <td>1115.129000</td>\n",
       "    </tr>\n",
       "    <tr>\n",
       "      <th>25%</th>\n",
       "      <td>0.55</td>\n",
       "      <td>395.338025</td>\n",
       "      <td>1623.429300</td>\n",
       "    </tr>\n",
       "    <tr>\n",
       "      <th>50%</th>\n",
       "      <td>0.55</td>\n",
       "      <td>441.000000</td>\n",
       "      <td>1767.748205</td>\n",
       "    </tr>\n",
       "    <tr>\n",
       "      <th>75%</th>\n",
       "      <td>0.55</td>\n",
       "      <td>518.724645</td>\n",
       "      <td>2010.368430</td>\n",
       "    </tr>\n",
       "    <tr>\n",
       "      <th>max</th>\n",
       "      <td>0.55</td>\n",
       "      <td>739.658420</td>\n",
       "      <td>2467.731000</td>\n",
       "    </tr>\n",
       "  </tbody>\n",
       "</table>\n",
       "</div>"
      ],
      "text/plain": [
       "       wc_ratio  unreinforced   reinforced\n",
       "count     42.00     42.000000    42.000000\n",
       "mean       0.55    462.574621  1773.740019\n",
       "std        0.00     93.532472   300.367404\n",
       "min        0.55    324.778600  1115.129000\n",
       "25%        0.55    395.338025  1623.429300\n",
       "50%        0.55    441.000000  1767.748205\n",
       "75%        0.55    518.724645  2010.368430\n",
       "max        0.55    739.658420  2467.731000"
      ]
     },
     "execution_count": 20,
     "metadata": {},
     "output_type": "execute_result"
    }
   ],
   "source": [
    "data2020_55.describe()"
   ]
  },
  {
   "cell_type": "code",
   "execution_count": 21,
   "id": "68e5b7d8",
   "metadata": {},
   "outputs": [
    {
     "data": {
      "text/html": [
       "<div>\n",
       "<style scoped>\n",
       "    .dataframe tbody tr th:only-of-type {\n",
       "        vertical-align: middle;\n",
       "    }\n",
       "\n",
       "    .dataframe tbody tr th {\n",
       "        vertical-align: top;\n",
       "    }\n",
       "\n",
       "    .dataframe thead th {\n",
       "        text-align: right;\n",
       "    }\n",
       "</style>\n",
       "<table border=\"1\" class=\"dataframe\">\n",
       "  <thead>\n",
       "    <tr style=\"text-align: right;\">\n",
       "      <th></th>\n",
       "      <th>wc_ratio</th>\n",
       "      <th>unreinforced</th>\n",
       "      <th>reinforced</th>\n",
       "    </tr>\n",
       "  </thead>\n",
       "  <tbody>\n",
       "    <tr>\n",
       "      <th>count</th>\n",
       "      <td>42.00</td>\n",
       "      <td>42.000000</td>\n",
       "      <td>42.000000</td>\n",
       "    </tr>\n",
       "    <tr>\n",
       "      <th>mean</th>\n",
       "      <td>0.55</td>\n",
       "      <td>576.097600</td>\n",
       "      <td>2224.739864</td>\n",
       "    </tr>\n",
       "    <tr>\n",
       "      <th>std</th>\n",
       "      <td>0.00</td>\n",
       "      <td>160.577419</td>\n",
       "      <td>526.961542</td>\n",
       "    </tr>\n",
       "    <tr>\n",
       "      <th>min</th>\n",
       "      <td>0.55</td>\n",
       "      <td>64.150540</td>\n",
       "      <td>1038.366000</td>\n",
       "    </tr>\n",
       "    <tr>\n",
       "      <th>25%</th>\n",
       "      <td>0.55</td>\n",
       "      <td>474.407000</td>\n",
       "      <td>1883.747750</td>\n",
       "    </tr>\n",
       "    <tr>\n",
       "      <th>50%</th>\n",
       "      <td>0.55</td>\n",
       "      <td>554.657850</td>\n",
       "      <td>2212.339365</td>\n",
       "    </tr>\n",
       "    <tr>\n",
       "      <th>75%</th>\n",
       "      <td>0.55</td>\n",
       "      <td>725.638875</td>\n",
       "      <td>2569.264868</td>\n",
       "    </tr>\n",
       "    <tr>\n",
       "      <th>max</th>\n",
       "      <td>0.55</td>\n",
       "      <td>880.000000</td>\n",
       "      <td>3168.240000</td>\n",
       "    </tr>\n",
       "  </tbody>\n",
       "</table>\n",
       "</div>"
      ],
      "text/plain": [
       "       wc_ratio  unreinforced   reinforced\n",
       "count     42.00     42.000000    42.000000\n",
       "mean       0.55    576.097600  2224.739864\n",
       "std        0.00    160.577419   526.961542\n",
       "min        0.55     64.150540  1038.366000\n",
       "25%        0.55    474.407000  1883.747750\n",
       "50%        0.55    554.657850  2212.339365\n",
       "75%        0.55    725.638875  2569.264868\n",
       "max        0.55    880.000000  3168.240000"
      ]
     },
     "execution_count": 21,
     "metadata": {},
     "output_type": "execute_result"
    }
   ],
   "source": [
    "data2021_55.describe()"
   ]
  },
  {
   "cell_type": "code",
   "execution_count": 22,
   "id": "02a17577",
   "metadata": {},
   "outputs": [
    {
     "data": {
      "text/html": [
       "<div>\n",
       "<style scoped>\n",
       "    .dataframe tbody tr th:only-of-type {\n",
       "        vertical-align: middle;\n",
       "    }\n",
       "\n",
       "    .dataframe tbody tr th {\n",
       "        vertical-align: top;\n",
       "    }\n",
       "\n",
       "    .dataframe thead th {\n",
       "        text-align: right;\n",
       "    }\n",
       "</style>\n",
       "<table border=\"1\" class=\"dataframe\">\n",
       "  <thead>\n",
       "    <tr style=\"text-align: right;\">\n",
       "      <th></th>\n",
       "      <th>wc_ratio</th>\n",
       "      <th>unreinforced</th>\n",
       "      <th>reinforced</th>\n",
       "    </tr>\n",
       "  </thead>\n",
       "  <tbody>\n",
       "    <tr>\n",
       "      <th>count</th>\n",
       "      <td>40.00</td>\n",
       "      <td>40.000000</td>\n",
       "      <td>40.000000</td>\n",
       "    </tr>\n",
       "    <tr>\n",
       "      <th>mean</th>\n",
       "      <td>0.55</td>\n",
       "      <td>498.079713</td>\n",
       "      <td>1825.368935</td>\n",
       "    </tr>\n",
       "    <tr>\n",
       "      <th>std</th>\n",
       "      <td>0.00</td>\n",
       "      <td>169.331674</td>\n",
       "      <td>542.990719</td>\n",
       "    </tr>\n",
       "    <tr>\n",
       "      <th>min</th>\n",
       "      <td>0.55</td>\n",
       "      <td>1.000000</td>\n",
       "      <td>416.900000</td>\n",
       "    </tr>\n",
       "    <tr>\n",
       "      <th>25%</th>\n",
       "      <td>0.55</td>\n",
       "      <td>417.100807</td>\n",
       "      <td>1646.818060</td>\n",
       "    </tr>\n",
       "    <tr>\n",
       "      <th>50%</th>\n",
       "      <td>0.55</td>\n",
       "      <td>485.777500</td>\n",
       "      <td>1870.829305</td>\n",
       "    </tr>\n",
       "    <tr>\n",
       "      <th>75%</th>\n",
       "      <td>0.55</td>\n",
       "      <td>591.430155</td>\n",
       "      <td>2074.467950</td>\n",
       "    </tr>\n",
       "    <tr>\n",
       "      <th>max</th>\n",
       "      <td>0.55</td>\n",
       "      <td>788.300000</td>\n",
       "      <td>3094.810000</td>\n",
       "    </tr>\n",
       "  </tbody>\n",
       "</table>\n",
       "</div>"
      ],
      "text/plain": [
       "       wc_ratio  unreinforced   reinforced\n",
       "count     40.00     40.000000    40.000000\n",
       "mean       0.55    498.079713  1825.368935\n",
       "std        0.00    169.331674   542.990719\n",
       "min        0.55      1.000000   416.900000\n",
       "25%        0.55    417.100807  1646.818060\n",
       "50%        0.55    485.777500  1870.829305\n",
       "75%        0.55    591.430155  2074.467950\n",
       "max        0.55    788.300000  3094.810000"
      ]
     },
     "execution_count": 22,
     "metadata": {},
     "output_type": "execute_result"
    }
   ],
   "source": [
    "data2022_55.describe()"
   ]
  },
  {
   "cell_type": "code",
   "execution_count": 23,
   "id": "6d4e6ad4",
   "metadata": {},
   "outputs": [
    {
     "data": {
      "text/html": [
       "<div>\n",
       "<style scoped>\n",
       "    .dataframe tbody tr th:only-of-type {\n",
       "        vertical-align: middle;\n",
       "    }\n",
       "\n",
       "    .dataframe tbody tr th {\n",
       "        vertical-align: top;\n",
       "    }\n",
       "\n",
       "    .dataframe thead th {\n",
       "        text-align: right;\n",
       "    }\n",
       "</style>\n",
       "<table border=\"1\" class=\"dataframe\">\n",
       "  <thead>\n",
       "    <tr style=\"text-align: right;\">\n",
       "      <th></th>\n",
       "      <th>wc_ratio</th>\n",
       "      <th>unreinforced</th>\n",
       "      <th>reinforced</th>\n",
       "    </tr>\n",
       "  </thead>\n",
       "  <tbody>\n",
       "    <tr>\n",
       "      <th>count</th>\n",
       "      <td>45.00</td>\n",
       "      <td>45.000000</td>\n",
       "      <td>45.000000</td>\n",
       "    </tr>\n",
       "    <tr>\n",
       "      <th>mean</th>\n",
       "      <td>0.55</td>\n",
       "      <td>479.824670</td>\n",
       "      <td>1818.109749</td>\n",
       "    </tr>\n",
       "    <tr>\n",
       "      <th>std</th>\n",
       "      <td>0.00</td>\n",
       "      <td>178.803253</td>\n",
       "      <td>697.663377</td>\n",
       "    </tr>\n",
       "    <tr>\n",
       "      <th>min</th>\n",
       "      <td>0.55</td>\n",
       "      <td>16.438620</td>\n",
       "      <td>128.440920</td>\n",
       "    </tr>\n",
       "    <tr>\n",
       "      <th>25%</th>\n",
       "      <td>0.55</td>\n",
       "      <td>417.250000</td>\n",
       "      <td>1560.269000</td>\n",
       "    </tr>\n",
       "    <tr>\n",
       "      <th>50%</th>\n",
       "      <td>0.55</td>\n",
       "      <td>471.497500</td>\n",
       "      <td>1842.300000</td>\n",
       "    </tr>\n",
       "    <tr>\n",
       "      <th>75%</th>\n",
       "      <td>0.55</td>\n",
       "      <td>598.958870</td>\n",
       "      <td>2229.990580</td>\n",
       "    </tr>\n",
       "    <tr>\n",
       "      <th>max</th>\n",
       "      <td>0.55</td>\n",
       "      <td>858.628700</td>\n",
       "      <td>3179.486880</td>\n",
       "    </tr>\n",
       "  </tbody>\n",
       "</table>\n",
       "</div>"
      ],
      "text/plain": [
       "       wc_ratio  unreinforced   reinforced\n",
       "count     45.00     45.000000    45.000000\n",
       "mean       0.55    479.824670  1818.109749\n",
       "std        0.00    178.803253   697.663377\n",
       "min        0.55     16.438620   128.440920\n",
       "25%        0.55    417.250000  1560.269000\n",
       "50%        0.55    471.497500  1842.300000\n",
       "75%        0.55    598.958870  2229.990580\n",
       "max        0.55    858.628700  3179.486880"
      ]
     },
     "execution_count": 23,
     "metadata": {},
     "output_type": "execute_result"
    }
   ],
   "source": [
    "data2023_55.describe()"
   ]
  },
  {
   "cell_type": "code",
   "execution_count": 24,
   "id": "babf9f69",
   "metadata": {},
   "outputs": [
    {
     "data": {
      "text/plain": [
       "Text(0.5, 1.0, 'Unreinforced Concrete with a Water Ratio of 0.55')"
      ]
     },
     "execution_count": 24,
     "metadata": {},
     "output_type": "execute_result"
    },
    {
     "data": {
      "image/png": "[encoded data removed]",
      "text/plain": [
       "<Figure size 1000x500 with 1 Axes>"
      ]
     },
     "metadata": {},
     "output_type": "display_data"
    }
   ],
   "source": [
    "fig = plt.figure(figsize = (10, 5))\n",
    "ax = fig.add_subplot(111)\n",
    "\n",
    "vals = {'2020': data2020_55['unreinforced'], '2021': data2021_55['unreinforced'], '2022': data2022_55['unreinforced'], '2023': data2023_55['unreinforced']}\n",
    "ax.boxplot(vals.values(),patch_artist=True,\n",
    "            boxprops=dict(facecolor='lightblue', color='black'),\n",
    "            capprops=dict(color='black'),\n",
    "            whiskerprops=dict(color='black'),\n",
    "            flierprops=dict(markeredgecolor='black'),\n",
    "            medianprops=dict(color='black', linewidth=2),)\n",
    "ax.set_facecolor('aliceblue')\n",
    "ax.set_xticklabels(vals.keys())\n",
    "ax.set_ylabel('Breaking Strength (lbf)', size = 13)\n",
    "ax.set_xlabel('Year', size = 13)\n",
    "ax.set_title('Unreinforced Concrete with a Water Ratio of 0.55')"
   ]
  },
  {
   "cell_type": "markdown",
   "id": "7ae2f3be",
   "metadata": {},
   "source": [
    "Based off of the visualizations, the data from 2020 may be significantly different from the other years."
   ]
  },
  {
   "cell_type": "markdown",
   "id": "dc07ca19",
   "metadata": {},
   "source": [
    "### Compare P-Values of Different Years\n",
    "\n",
    "#### Water Ratio: 0.50\n",
    "\n",
    "Is the difference in the mean between 2020 and 2021 for unreinforced concrete at a water ratio of 0.55 statistically significant?\n"
   ]
  },
  {
   "cell_type": "code",
   "execution_count": 25,
   "id": "ec5cddd4",
   "metadata": {},
   "outputs": [
    {
     "data": {
      "text/plain": [
       "Ttest_indResult(statistic=-5.5478789652828135, pvalue=3.7223406867572385e-07)"
      ]
     },
     "execution_count": 25,
     "metadata": {},
     "output_type": "execute_result"
    }
   ],
   "source": [
    "stats.ttest_ind(data2020_50['unreinforced'], data2021_50['unreinforced'], axis=0)"
   ]
  },
  {
   "cell_type": "markdown",
   "id": "d8068804",
   "metadata": {},
   "source": [
    "#### Water Ratio: 0.55\n",
    "\n",
    "Is the difference in the mean between 2021 and 2023 for unreinforced concrete at a water ratio of 0.55 statistically significant?"
   ]
  },
  {
   "cell_type": "code",
   "execution_count": 26,
   "id": "6f11a8fc",
   "metadata": {},
   "outputs": [
    {
     "data": {
      "text/plain": [
       "Ttest_indResult(statistic=2.6355650880959276, pvalue=0.009982306651204021)"
      ]
     },
     "execution_count": 26,
     "metadata": {},
     "output_type": "execute_result"
    }
   ],
   "source": [
    "stats.ttest_ind(data2021_55['unreinforced'], data2023_55['unreinforced'], axis=0)"
   ]
  },
  {
   "cell_type": "markdown",
   "id": "9dee3414",
   "metadata": {},
   "source": [
    "Is the difference in the mean between 2020 and 2022 for unreinforced concrete at a water ratio of 0.55 statistically significant?"
   ]
  },
  {
   "cell_type": "code",
   "execution_count": 27,
   "id": "83e266c4",
   "metadata": {},
   "outputs": [
    {
     "data": {
      "text/plain": [
       "Ttest_indResult(statistic=-1.1827757557655552, pvalue=0.24040128359715768)"
      ]
     },
     "execution_count": 27,
     "metadata": {},
     "output_type": "execute_result"
    }
   ],
   "source": [
    "stats.ttest_ind(data2020_55['unreinforced'], data2022_55['unreinforced'], axis=0)"
   ]
  },
  {
   "cell_type": "markdown",
   "id": "b30ce586",
   "metadata": {},
   "source": [
    "Is the difference in the mean between 2020 and 2023 for unreinforced concrete at a water ratio of 0.55 statistically significant?"
   ]
  },
  {
   "cell_type": "code",
   "execution_count": 28,
   "id": "003d6f2c",
   "metadata": {},
   "outputs": [
    {
     "data": {
      "text/plain": [
       "Ttest_indResult(statistic=-0.5578931435702279, pvalue=0.5783838024735231)"
      ]
     },
     "execution_count": 28,
     "metadata": {},
     "output_type": "execute_result"
    }
   ],
   "source": [
    "stats.ttest_ind(data2020_55['unreinforced'], data2023_55['unreinforced'], axis=0)"
   ]
  },
  {
   "cell_type": "markdown",
   "id": "b4c4d4c4",
   "metadata": {},
   "source": [
    "### Compare means within the same year.\n",
    "\n",
    "Is the difference in mean between unreinforced concrete with a water ratio of 0.5 significantly different from the mean with a water ratio of 0.55 in the same year?"
   ]
  },
  {
   "cell_type": "markdown",
   "id": "fd853a0c",
   "metadata": {},
   "source": [
    "2020"
   ]
  },
  {
   "cell_type": "code",
   "execution_count": 29,
   "id": "59022158",
   "metadata": {},
   "outputs": [
    {
     "data": {
      "text/plain": [
       "Ttest_indResult(statistic=-1.2641184378582377, pvalue=0.2101021923744449)"
      ]
     },
     "execution_count": 29,
     "metadata": {},
     "output_type": "execute_result"
    }
   ],
   "source": [
    "## Unreinforced\n",
    "stats.ttest_ind(data2020_50['unreinforced'], data2020_55['unreinforced'], axis=0)"
   ]
  },
  {
   "cell_type": "code",
   "execution_count": 30,
   "id": "f91d5337",
   "metadata": {},
   "outputs": [
    {
     "data": {
      "text/plain": [
       "Ttest_indResult(statistic=-1.0666431782217627, pvalue=0.28955457077357494)"
      ]
     },
     "execution_count": 30,
     "metadata": {},
     "output_type": "execute_result"
    }
   ],
   "source": [
    "## Reinforced\n",
    "stats.ttest_ind(data2020_50['reinforced'], data2020_55['reinforced'], axis=0)"
   ]
  },
  {
   "cell_type": "markdown",
   "id": "27a87c8f",
   "metadata": {},
   "source": [
    "2021"
   ]
  },
  {
   "cell_type": "code",
   "execution_count": 31,
   "id": "9682ad8d",
   "metadata": {},
   "outputs": [
    {
     "data": {
      "text/plain": [
       "Ttest_indResult(statistic=0.9214797611889503, pvalue=0.35937783030632064)"
      ]
     },
     "execution_count": 31,
     "metadata": {},
     "output_type": "execute_result"
    }
   ],
   "source": [
    "## Unreinforced\n",
    "stats.ttest_ind(data2021_50['unreinforced'], data2021_55['unreinforced'], axis=0)"
   ]
  },
  {
   "cell_type": "code",
   "execution_count": 32,
   "id": "6bb64882",
   "metadata": {
    "scrolled": true
   },
   "outputs": [
    {
     "data": {
      "text/plain": [
       "Ttest_indResult(statistic=0.5255878707077615, pvalue=0.6005271783150479)"
      ]
     },
     "execution_count": 32,
     "metadata": {},
     "output_type": "execute_result"
    }
   ],
   "source": [
    "## Reinforced\n",
    "stats.ttest_ind(data2021_50['reinforced'], data2021_55['reinforced'], axis=0)"
   ]
  },
  {
   "cell_type": "markdown",
   "id": "2b8de249",
   "metadata": {},
   "source": [
    "2022"
   ]
  },
  {
   "cell_type": "code",
   "execution_count": 33,
   "id": "2bc147af",
   "metadata": {
    "scrolled": true
   },
   "outputs": [
    {
     "data": {
      "text/plain": [
       "Ttest_indResult(statistic=2.1039928839602364, pvalue=0.039252120157151654)"
      ]
     },
     "execution_count": 33,
     "metadata": {},
     "output_type": "execute_result"
    }
   ],
   "source": [
    "## Unreinforced\n",
    "stats.ttest_ind(data2022_50['unreinforced'], data2022_55['unreinforced'], axis=0)"
   ]
  },
  {
   "cell_type": "code",
   "execution_count": 34,
   "id": "052386b7",
   "metadata": {},
   "outputs": [
    {
     "data": {
      "text/plain": [
       "Ttest_indResult(statistic=2.619433452633922, pvalue=0.010950417844113287)"
      ]
     },
     "execution_count": 34,
     "metadata": {},
     "output_type": "execute_result"
    }
   ],
   "source": [
    "## Reinforced\n",
    "stats.ttest_ind(data2022_50['reinforced'], data2022_55['reinforced'], axis=0)"
   ]
  },
  {
   "cell_type": "markdown",
   "id": "45625fe5",
   "metadata": {},
   "source": [
    "2023"
   ]
  },
  {
   "cell_type": "code",
   "execution_count": 35,
   "id": "e6d5e6df",
   "metadata": {},
   "outputs": [
    {
     "data": {
      "text/plain": [
       "Ttest_indResult(statistic=1.584789717442967, pvalue=0.1164832948672539)"
      ]
     },
     "execution_count": 35,
     "metadata": {},
     "output_type": "execute_result"
    }
   ],
   "source": [
    "## Unreinforced\n",
    "stats.ttest_ind(data2023_50['unreinforced'], data2023_55['unreinforced'], axis=0)"
   ]
  },
  {
   "cell_type": "code",
   "execution_count": 36,
   "id": "a890ffa3",
   "metadata": {},
   "outputs": [
    {
     "data": {
      "text/plain": [
       "Ttest_indResult(statistic=2.669288374305924, pvalue=0.009001319184859491)"
      ]
     },
     "execution_count": 36,
     "metadata": {},
     "output_type": "execute_result"
    }
   ],
   "source": [
    "## Reinforced\n",
    "stats.ttest_ind(data2023_50['reinforced'], data2023_55['reinforced'], axis=0)"
   ]
  },
  {
   "cell_type": "code",
   "execution_count": null,
   "id": "848c1769",
   "metadata": {},
   "outputs": [],
   "source": []
  }
 ],
 "metadata": {
  "kernelspec": {
   "display_name": "Python 3 (ipykernel)",
   "language": "python",
   "name": "python3"
  },
  "language_info": {
   "codemirror_mode": {
    "name": "ipython",
    "version": 3
   },
   "file_extension": ".py",
   "mimetype": "text/x-python",
   "name": "python",
   "nbconvert_exporter": "python",
   "pygments_lexer": "ipython3",
   "version": "3.11.0"
  }
 },
 "nbformat": 4,
 "nbformat_minor": 5
}
