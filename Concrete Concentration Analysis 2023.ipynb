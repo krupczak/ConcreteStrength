{
 "cells": [
  {
   "cell_type": "markdown",
   "id": "9683574d",
   "metadata": {},
   "source": [
    "## Concrete Formula Comparison\n",
    "### Intro to Engineering, Fall 2023"
   ]
  },
  {
   "cell_type": "code",
   "execution_count": 1,
   "id": "6ae3c55e",
   "metadata": {},
   "outputs": [],
   "source": [
    "import pandas as pd\n",
    "import numpy as np\n",
    "import matplotlib.pyplot as plt\n",
    "from scipy import stats"
   ]
  },
  {
   "cell_type": "code",
   "execution_count": 2,
   "id": "771deb16",
   "metadata": {},
   "outputs": [
    {
     "data": {
      "text/html": [
       "<div>\n",
       "<style scoped>\n",
       "    .dataframe tbody tr th:only-of-type {\n",
       "        vertical-align: middle;\n",
       "    }\n",
       "\n",
       "    .dataframe tbody tr th {\n",
       "        vertical-align: top;\n",
       "    }\n",
       "\n",
       "    .dataframe thead th {\n",
       "        text-align: right;\n",
       "    }\n",
       "</style>\n",
       "<table border=\"1\" class=\"dataframe\">\n",
       "  <thead>\n",
       "    <tr style=\"text-align: right;\">\n",
       "      <th></th>\n",
       "      <th>Data Entry Time</th>\n",
       "      <th>Test Time</th>\n",
       "      <th>Ratio</th>\n",
       "      <th>UnReinforced</th>\n",
       "      <th>Reinforced</th>\n",
       "    </tr>\n",
       "  </thead>\n",
       "  <tbody>\n",
       "    <tr>\n",
       "      <th>0</th>\n",
       "      <td>2023-09-26 09:34:30.232</td>\n",
       "      <td>2023-09-26 08:00:00</td>\n",
       "      <td>0.5</td>\n",
       "      <td>377.71000</td>\n",
       "      <td>2056.88000</td>\n",
       "    </tr>\n",
       "    <tr>\n",
       "      <th>1</th>\n",
       "      <td>2023-09-26 10:40:21.401</td>\n",
       "      <td>2023-09-26 09:13:00</td>\n",
       "      <td>0.5</td>\n",
       "      <td>606.23568</td>\n",
       "      <td>2363.41029</td>\n",
       "    </tr>\n",
       "    <tr>\n",
       "      <th>2</th>\n",
       "      <td>2023-09-26 10:46:46.138</td>\n",
       "      <td>2023-09-26 08:00:00</td>\n",
       "      <td>0.5</td>\n",
       "      <td>504.03346</td>\n",
       "      <td>1609.58000</td>\n",
       "    </tr>\n",
       "    <tr>\n",
       "      <th>3</th>\n",
       "      <td>2023-09-26 12:06:50.986</td>\n",
       "      <td>2023-09-26 09:00:00</td>\n",
       "      <td>0.5</td>\n",
       "      <td>540.33170</td>\n",
       "      <td>2189.93900</td>\n",
       "    </tr>\n",
       "    <tr>\n",
       "      <th>4</th>\n",
       "      <td>2023-09-26 12:39:58.335</td>\n",
       "      <td>2023-09-26 12:38:00</td>\n",
       "      <td>0.5</td>\n",
       "      <td>667.59353</td>\n",
       "      <td>2512.64258</td>\n",
       "    </tr>\n",
       "  </tbody>\n",
       "</table>\n",
       "</div>"
      ],
      "text/plain": [
       "          Data Entry Time           Test Time  Ratio  UnReinforced  Reinforced\n",
       "0 2023-09-26 09:34:30.232 2023-09-26 08:00:00    0.5     377.71000  2056.88000\n",
       "1 2023-09-26 10:40:21.401 2023-09-26 09:13:00    0.5     606.23568  2363.41029\n",
       "2 2023-09-26 10:46:46.138 2023-09-26 08:00:00    0.5     504.03346  1609.58000\n",
       "3 2023-09-26 12:06:50.986 2023-09-26 09:00:00    0.5     540.33170  2189.93900\n",
       "4 2023-09-26 12:39:58.335 2023-09-26 12:38:00    0.5     667.59353  2512.64258"
      ]
     },
     "execution_count": 2,
     "metadata": {},
     "output_type": "execute_result"
    }
   ],
   "source": [
    "cols = ['Data Entry Time', 'Test Time', 'Ratio', 'UnReinforced', 'Reinforced']\n",
    "data = pd.read_excel(\"Concrete-23-cleaned1.xlsx\", usecols = cols)\n",
    "data.head()"
   ]
  },
  {
   "cell_type": "code",
   "execution_count": 3,
   "id": "a3b28b16",
   "metadata": {},
   "outputs": [],
   "source": [
    "## mean of unreinforced and reinforced based on ratio\n",
    "\n",
    "data55 = data[data['Ratio']==0.55]\n",
    "data50 = data[data['Ratio']==0.50]"
   ]
  },
  {
   "cell_type": "code",
   "execution_count": 4,
   "id": "32de2697",
   "metadata": {},
   "outputs": [
    {
     "name": "stdout",
     "output_type": "stream",
     "text": [
      "Ratio: 55, Type: UnReinforced, Mean: 478.0\n",
      "Ratio: 55, Type: Reinforced  , Mean: 1839.11\n",
      "Ratio: 50, Type: UnReinforced, Mean: 529.85\n",
      "Ratio: 50, Type: Reinforced  , Mean: 1944.01\n",
      "\n",
      "Ratio 55: 3.847510460251046\n",
      "Ratio 50: 3.668981787298292\n"
     ]
    }
   ],
   "source": [
    "mean55u = round(np.mean(data55['UnReinforced']), 2)\n",
    "mean55r = round(np.mean(data55['Reinforced']), 2)\n",
    "mean50u = round(np.mean(data50['UnReinforced']), 2)\n",
    "mean50r = round(np.mean(data50['Reinforced']), 2)\n",
    "\n",
    "ratio55 = mean55r/mean55u\n",
    "ratio50 = mean50r/mean50u\n",
    "\n",
    "print(f\"Ratio: 55, Type: UnReinforced, Mean: {mean55u}\")\n",
    "print(f\"Ratio: 55, Type: Reinforced  , Mean: {mean55r}\")\n",
    "print(f\"Ratio: 50, Type: UnReinforced, Mean: {mean50u}\")\n",
    "print(f\"Ratio: 50, Type: Reinforced  , Mean: {mean50r}\")\n",
    "print()\n",
    "print(f\"Ratio 55: {ratio55}\")\n",
    "print(f\"Ratio 50: {ratio50}\")"
   ]
  },
  {
   "cell_type": "code",
   "execution_count": 5,
   "id": "99e9d4f8",
   "metadata": {},
   "outputs": [
    {
     "data": {
      "text/plain": [
       "<matplotlib.legend.Legend at 0x16a201d10>"
      ]
     },
     "execution_count": 5,
     "metadata": {},
     "output_type": "execute_result"
    },
    {
     "data": {
      "image/png": "[encoded data removed]",
      "text/plain": [
       "<Figure size 640x480 with 1 Axes>"
      ]
     },
     "metadata": {},
     "output_type": "display_data"
    }
   ],
   "source": [
    "plt.hist(data55['UnReinforced'], alpha = 0.5, label = 'Unreinforced')\n",
    "plt.hist(data55['Reinforced'], alpha = 0.5, label = 'Reinforced')\n",
    "plt.title('Water Concentration = 0.55')\n",
    "plt.xlabel('Breaking Strength (lbf)')\n",
    "plt.legend()"
   ]
  },
  {
   "cell_type": "code",
   "execution_count": 6,
   "id": "78c83ae5",
   "metadata": {},
   "outputs": [
    {
     "data": {
      "text/plain": [
       "<matplotlib.legend.Legend at 0x16a2e7950>"
      ]
     },
     "execution_count": 6,
     "metadata": {},
     "output_type": "execute_result"
    },
    {
     "data": {
      "image/png": "[encoded data removed]",
      "text/plain": [
       "<Figure size 640x480 with 1 Axes>"
      ]
     },
     "metadata": {},
     "output_type": "display_data"
    }
   ],
   "source": [
    "plt.hist(data55['UnReinforced'], alpha = 0.5, label = 'Concentration = 0.55')\n",
    "plt.hist(data50['UnReinforced'], alpha = 0.5, label = 'Concentration = 0.50')\n",
    "plt.title('UnReinforced Concrete')\n",
    "plt.xlabel('Breaking Strength (lbf)')\n",
    "plt.legend()"
   ]
  },
  {
   "cell_type": "code",
   "execution_count": 7,
   "id": "4d2e7f16",
   "metadata": {},
   "outputs": [
    {
     "data": {
      "text/plain": [
       "<matplotlib.legend.Legend at 0x16a2fc9d0>"
      ]
     },
     "execution_count": 7,
     "metadata": {},
     "output_type": "execute_result"
    },
    {
     "data": {
      "image/png": "[encoded data removed]",
      "text/plain": [
       "<Figure size 640x480 with 1 Axes>"
      ]
     },
     "metadata": {},
     "output_type": "display_data"
    }
   ],
   "source": [
    "plt.hist(data50['UnReinforced'], alpha = 0.5, label = 'Unreinforced')\n",
    "plt.hist(data50['Reinforced'], alpha = 0.5, label = 'Reinforced')\n",
    "plt.title('Water Concentration = 0.50')\n",
    "plt.xlabel('Breaking Strength (lbf)')\n",
    "plt.legend()"
   ]
  },
  {
   "cell_type": "code",
   "execution_count": 8,
   "id": "b5ac92c0",
   "metadata": {},
   "outputs": [
    {
     "data": {
      "text/html": [
       "<div>\n",
       "<style scoped>\n",
       "    .dataframe tbody tr th:only-of-type {\n",
       "        vertical-align: middle;\n",
       "    }\n",
       "\n",
       "    .dataframe tbody tr th {\n",
       "        vertical-align: top;\n",
       "    }\n",
       "\n",
       "    .dataframe thead th {\n",
       "        text-align: right;\n",
       "    }\n",
       "</style>\n",
       "<table border=\"1\" class=\"dataframe\">\n",
       "  <thead>\n",
       "    <tr style=\"text-align: right;\">\n",
       "      <th></th>\n",
       "      <th>Ratio</th>\n",
       "      <th>UnReinforced</th>\n",
       "      <th>Reinforced</th>\n",
       "    </tr>\n",
       "  </thead>\n",
       "  <tbody>\n",
       "    <tr>\n",
       "      <th>count</th>\n",
       "      <td>4.700000e+01</td>\n",
       "      <td>47.000000</td>\n",
       "      <td>47.000000</td>\n",
       "    </tr>\n",
       "    <tr>\n",
       "      <th>mean</th>\n",
       "      <td>5.500000e-01</td>\n",
       "      <td>478.001642</td>\n",
       "      <td>1839.111122</td>\n",
       "    </tr>\n",
       "    <tr>\n",
       "      <th>std</th>\n",
       "      <td>1.122226e-16</td>\n",
       "      <td>175.210496</td>\n",
       "      <td>690.654026</td>\n",
       "    </tr>\n",
       "    <tr>\n",
       "      <th>min</th>\n",
       "      <td>5.500000e-01</td>\n",
       "      <td>16.438620</td>\n",
       "      <td>128.440920</td>\n",
       "    </tr>\n",
       "    <tr>\n",
       "      <th>25%</th>\n",
       "      <td>5.500000e-01</td>\n",
       "      <td>411.977050</td>\n",
       "      <td>1568.867000</td>\n",
       "    </tr>\n",
       "    <tr>\n",
       "      <th>50%</th>\n",
       "      <td>5.500000e-01</td>\n",
       "      <td>470.640500</td>\n",
       "      <td>1903.437000</td>\n",
       "    </tr>\n",
       "    <tr>\n",
       "      <th>75%</th>\n",
       "      <td>5.500000e-01</td>\n",
       "      <td>593.804435</td>\n",
       "      <td>2233.942850</td>\n",
       "    </tr>\n",
       "    <tr>\n",
       "      <th>max</th>\n",
       "      <td>5.500000e-01</td>\n",
       "      <td>858.628700</td>\n",
       "      <td>3179.486880</td>\n",
       "    </tr>\n",
       "  </tbody>\n",
       "</table>\n",
       "</div>"
      ],
      "text/plain": [
       "              Ratio  UnReinforced   Reinforced\n",
       "count  4.700000e+01     47.000000    47.000000\n",
       "mean   5.500000e-01    478.001642  1839.111122\n",
       "std    1.122226e-16    175.210496   690.654026\n",
       "min    5.500000e-01     16.438620   128.440920\n",
       "25%    5.500000e-01    411.977050  1568.867000\n",
       "50%    5.500000e-01    470.640500  1903.437000\n",
       "75%    5.500000e-01    593.804435  2233.942850\n",
       "max    5.500000e-01    858.628700  3179.486880"
      ]
     },
     "execution_count": 8,
     "metadata": {},
     "output_type": "execute_result"
    }
   ],
   "source": [
    "data55.describe()"
   ]
  },
  {
   "cell_type": "code",
   "execution_count": 9,
   "id": "bc8330b5",
   "metadata": {},
   "outputs": [
    {
     "data": {
      "text/html": [
       "<div>\n",
       "<style scoped>\n",
       "    .dataframe tbody tr th:only-of-type {\n",
       "        vertical-align: middle;\n",
       "    }\n",
       "\n",
       "    .dataframe tbody tr th {\n",
       "        vertical-align: top;\n",
       "    }\n",
       "\n",
       "    .dataframe thead th {\n",
       "        text-align: right;\n",
       "    }\n",
       "</style>\n",
       "<table border=\"1\" class=\"dataframe\">\n",
       "  <thead>\n",
       "    <tr style=\"text-align: right;\">\n",
       "      <th></th>\n",
       "      <th>Ratio</th>\n",
       "      <th>UnReinforced</th>\n",
       "      <th>Reinforced</th>\n",
       "    </tr>\n",
       "  </thead>\n",
       "  <tbody>\n",
       "    <tr>\n",
       "      <th>count</th>\n",
       "      <td>37.0</td>\n",
       "      <td>37.000000</td>\n",
       "      <td>37.000000</td>\n",
       "    </tr>\n",
       "    <tr>\n",
       "      <th>mean</th>\n",
       "      <td>0.5</td>\n",
       "      <td>529.849491</td>\n",
       "      <td>1944.013682</td>\n",
       "    </tr>\n",
       "    <tr>\n",
       "      <th>std</th>\n",
       "      <td>0.0</td>\n",
       "      <td>107.112171</td>\n",
       "      <td>428.842526</td>\n",
       "    </tr>\n",
       "    <tr>\n",
       "      <th>min</th>\n",
       "      <td>0.5</td>\n",
       "      <td>285.400000</td>\n",
       "      <td>1145.625290</td>\n",
       "    </tr>\n",
       "    <tr>\n",
       "      <th>25%</th>\n",
       "      <td>0.5</td>\n",
       "      <td>439.960000</td>\n",
       "      <td>1627.740000</td>\n",
       "    </tr>\n",
       "    <tr>\n",
       "      <th>50%</th>\n",
       "      <td>0.5</td>\n",
       "      <td>552.880000</td>\n",
       "      <td>1966.271050</td>\n",
       "    </tr>\n",
       "    <tr>\n",
       "      <th>75%</th>\n",
       "      <td>0.5</td>\n",
       "      <td>606.235680</td>\n",
       "      <td>2282.042000</td>\n",
       "    </tr>\n",
       "    <tr>\n",
       "      <th>max</th>\n",
       "      <td>0.5</td>\n",
       "      <td>675.325000</td>\n",
       "      <td>2960.894450</td>\n",
       "    </tr>\n",
       "  </tbody>\n",
       "</table>\n",
       "</div>"
      ],
      "text/plain": [
       "       Ratio  UnReinforced   Reinforced\n",
       "count   37.0     37.000000    37.000000\n",
       "mean     0.5    529.849491  1944.013682\n",
       "std      0.0    107.112171   428.842526\n",
       "min      0.5    285.400000  1145.625290\n",
       "25%      0.5    439.960000  1627.740000\n",
       "50%      0.5    552.880000  1966.271050\n",
       "75%      0.5    606.235680  2282.042000\n",
       "max      0.5    675.325000  2960.894450"
      ]
     },
     "execution_count": 9,
     "metadata": {},
     "output_type": "execute_result"
    }
   ],
   "source": [
    "data50.describe()"
   ]
  },
  {
   "cell_type": "markdown",
   "id": "12818e7d",
   "metadata": {},
   "source": [
    "### Is the difference between the unreinforced means of the two concentrations statistically significant?\n",
    "\n",
    "Null hypothesis: The difference between the means is not statistically significant.\n",
    "\n",
    "Alternative hypothesis: The difference between the means is statistically significant."
   ]
  },
  {
   "cell_type": "code",
   "execution_count": 10,
   "id": "567e6e1e",
   "metadata": {},
   "outputs": [
    {
     "data": {
      "text/plain": [
       "Ttest_indResult(statistic=1.5812341974784863, pvalue=0.1176742720691522)"
      ]
     },
     "execution_count": 10,
     "metadata": {},
     "output_type": "execute_result"
    }
   ],
   "source": [
    "stats.ttest_ind(data50['UnReinforced'], data55['UnReinforced'], axis=0)"
   ]
  },
  {
   "cell_type": "markdown",
   "id": "574500b7",
   "metadata": {},
   "source": [
    "11.77% probability that the null hypothesis is true."
   ]
  },
  {
   "cell_type": "code",
   "execution_count": 11,
   "id": "a708e0a7",
   "metadata": {},
   "outputs": [
    {
     "data": {
      "text/plain": [
       "Ttest_indResult(statistic=0.8087292491208441, pvalue=0.4210111485943442)"
      ]
     },
     "execution_count": 11,
     "metadata": {},
     "output_type": "execute_result"
    }
   ],
   "source": [
    "stats.ttest_ind(data50['Reinforced'], data55['Reinforced'], axis=0)"
   ]
  },
  {
   "cell_type": "code",
   "execution_count": 12,
   "id": "f007cb61",
   "metadata": {},
   "outputs": [
    {
     "data": {
      "text/plain": [
       "Text(0.5, 0, 'Type')"
      ]
     },
     "execution_count": 12,
     "metadata": {},
     "output_type": "execute_result"
    },
    {
     "data": {
      "image/png": "[encoded data removed]",
      "text/plain": [
       "<Figure size 1000x500 with 1 Axes>"
      ]
     },
     "metadata": {},
     "output_type": "display_data"
    }
   ],
   "source": [
    "fig = plt.figure(figsize = (10, 5))\n",
    "ax = fig.add_subplot(111)\n",
    "\n",
    "vals = {'UnReinforced 55': data55['UnReinforced'], 'UnReinforced 50': data50['UnReinforced'], 'Reinforced 55': data55['Reinforced'], 'Reinforced 50': data50['Reinforced']}\n",
    "ax.boxplot(vals.values(),patch_artist=True,\n",
    "            boxprops=dict(facecolor='lightblue', color='black'),\n",
    "            capprops=dict(color='black'),\n",
    "            whiskerprops=dict(color='black'),\n",
    "            flierprops=dict(markeredgecolor='black'),\n",
    "            medianprops=dict(color='black', linewidth=2),)\n",
    "ax.set_facecolor('aliceblue')\n",
    "ax.set_xticklabels(vals.keys(), rotation = 90)\n",
    "ax.set_ylabel('Breaking Strength (lbf)', size = 13)\n",
    "ax.set_xlabel('Type', size = 13)"
   ]
  },
  {
   "cell_type": "markdown",
   "id": "c66bce6d",
   "metadata": {},
   "source": [
    "Next:\n",
    "\n",
    "Cleaning original lab data"
   ]
  },
  {
   "cell_type": "code",
   "execution_count": null,
   "id": "b205b5b9",
   "metadata": {},
   "outputs": [],
   "source": []
  }
 ],
 "metadata": {
  "kernelspec": {
   "display_name": "Python 3 (ipykernel)",
   "language": "python",
   "name": "python3"
  },
  "language_info": {
   "codemirror_mode": {
    "name": "ipython",
    "version": 3
   },
   "file_extension": ".py",
   "mimetype": "text/x-python",
   "name": "python",
   "nbconvert_exporter": "python",
   "pygments_lexer": "ipython3",
   "version": "3.11.0"
  }
 },
 "nbformat": 4,
 "nbformat_minor": 5
}
